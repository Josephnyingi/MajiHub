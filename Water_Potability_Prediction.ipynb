{
  "cells": [
    {
      "cell_type": "markdown",
      "metadata": {
        "id": "view-in-github",
        "colab_type": "text"
      },
      "source": [
        "<a href=\"https://colab.research.google.com/github/Josephnyingi/MajiHub/blob/main/Water_Potability_Prediction.ipynb\" target=\"_parent\"><img src=\"https://colab.research.google.com/assets/colab-badge.svg\" alt=\"Open In Colab\"/></a>"
      ]
    },
    {
      "cell_type": "markdown",
      "id": "4ab89694",
      "metadata": {
        "id": "4ab89694"
      },
      "source": [
        "# Water Potability prediction\n",
        "\n",
        "### <u>Problem Statement</u>\n",
        "1. How can we accurately predict water potability using machine learning algorithms, and what factors are most important in determining the quality of drinking water?\n",
        "\n",
        "\n",
        "### <u> Objectives</u>\n",
        "* Determine whether each water sample is potable or not potable.\n",
        "* Make a prediction of the pH levels for each water sample (acidic, neutral or alkaline)\n",
        "\n",
        "### <u>Dataset Descriptions</u> \n",
        "1. Water pH level (0 to 14): This parameter measures the acidity or alkalinity of water.\n",
        "2. Hardness (mg/L): It refers to the capacity of water to precipitate soap and is measured in milligrams per liter (mg/L).\n",
        "3. Solids (ppm): This parameter refers to the total dissolved solids in water and is measured in parts per million (ppm).\n",
        "4. Chloramines (ppm): It refers to the amount of Chloramines present in water and is measured in parts per million (ppm)\n",
        "5. Sulfate (mg/L): This parameter refers to the amount of sulfates dissolved in water and is measured in milligrams per liter (mg/L).\n",
        "6. Conductivity (μS/cm): This parameter refers to the electrical conductivity of water and is measured in microsiemens per centimeter (μS/cm).\n",
        "7. Organic_carbon (ppm): It refers to the amount of organic carbon in water and is measured in parts per million (ppm).\n",
        "8. Trihalomethanes (μg/L): This parameter refers to the amount of Trihalomethanes present in water and is measured in micrograms per liter (μg/L).\n",
        "Turbidity (NTU): It measures the light-emitting property of water and is measured in Nephelometric Turbidity Units (NTU).\n",
        "9. Potability: This parameter indicates whether water is safe for human consumption or not. Potable water is denoted by 1, while not potable water is denoted by 0.\n",
        "\n",
        "\n",
        "\n"
      ]
    },
    {
      "cell_type": "markdown",
      "id": "24fca5ed",
      "metadata": {
        "id": "24fca5ed"
      },
      "source": [
        "## Import relevant libraries"
      ]
    },
    {
      "cell_type": "code",
      "execution_count": 1,
      "id": "650f2335",
      "metadata": {
        "colab": {
          "base_uri": "https://localhost:8080/"
        },
        "id": "650f2335",
        "outputId": "bc825093-8478-40ac-8124-1202c164ebd2"
      },
      "outputs": [
        {
          "output_type": "stream",
          "name": "stdout",
          "text": [
            "Looking in indexes: https://pypi.org/simple, https://us-python.pkg.dev/colab-wheels/public/simple/\n",
            "Collecting Boruta\n",
            "  Downloading Boruta-0.3-py3-none-any.whl (56 kB)\n",
            "\u001b[?25l     \u001b[90m━━━━━━━━━━━━━━━━━━━━━━━━━━━━━━━━━━━━━━━━\u001b[0m \u001b[32m0.0/56.6 KB\u001b[0m \u001b[31m?\u001b[0m eta \u001b[36m-:--:--\u001b[0m\r\u001b[2K     \u001b[90m━━━━━━━━━━━━━━━━━━━━━━━━━━━━━━━━━━━━━━━━\u001b[0m \u001b[32m56.6/56.6 KB\u001b[0m \u001b[31m7.0 MB/s\u001b[0m eta \u001b[36m0:00:00\u001b[0m\n",
            "\u001b[?25hRequirement already satisfied: numpy>=1.10.4 in /usr/local/lib/python3.9/dist-packages (from Boruta) (1.22.4)\n",
            "Requirement already satisfied: scipy>=0.17.0 in /usr/local/lib/python3.9/dist-packages (from Boruta) (1.10.1)\n",
            "Requirement already satisfied: scikit-learn>=0.17.1 in /usr/local/lib/python3.9/dist-packages (from Boruta) (1.2.2)\n",
            "Requirement already satisfied: joblib>=1.1.1 in /usr/local/lib/python3.9/dist-packages (from scikit-learn>=0.17.1->Boruta) (1.1.1)\n",
            "Requirement already satisfied: threadpoolctl>=2.0.0 in /usr/local/lib/python3.9/dist-packages (from scikit-learn>=0.17.1->Boruta) (3.1.0)\n",
            "Installing collected packages: Boruta\n",
            "Successfully installed Boruta-0.3\n"
          ]
        }
      ],
      "source": [
        "#Libraries\n",
        "import warnings\n",
        "warnings.filterwarnings('ignore')\n",
        "import numpy as np\n",
        "import pandas as pd\n",
        "import matplotlib.pyplot as plt \n",
        "%matplotlib inline\n",
        "import seaborn as sns\n",
        "sns.set_style('darkgrid')\n",
        "from IPython.display import display, HTML\n",
        "from scipy import stats\n",
        "from statsmodels.graphics.gofplots import qqplot\n",
        "from statsmodels.stats.weightstats import ztest\n",
        "from scipy import interp\n",
        "from collections import Counter\n",
        "from sklearn.preprocessing import MinMaxScaler\n",
        "from sklearn.model_selection import train_test_split\n",
        "from sklearn.feature_selection import SelectFromModel\n",
        "!pip install Boruta\n",
        "from boruta import BorutaPy\n",
        "from sklearn.metrics import accuracy_score\n",
        "from sklearn.metrics import confusion_matrix, classification_report\n",
        "from sklearn.model_selection import StratifiedKFold,cross_val_score\n",
        "from sklearn.model_selection import GridSearchCV\n",
        "from sklearn.linear_model import LogisticRegression\n",
        "from sklearn.linear_model import RidgeClassifier\n",
        "from sklearn.neighbors import KNeighborsClassifier  \n",
        "from sklearn.tree import DecisionTreeClassifier as DT \n",
        "from sklearn.ensemble import RandomForestClassifier as RF \n",
        "from sklearn.ensemble import ExtraTreesClassifier as ET\n",
        "from sklearn.ensemble import AdaBoostClassifier as AB\n",
        "from xgboost import XGBClassifier \n",
        "from sklearn.naive_bayes import GaussianNB as GNB  \n",
        "from sklearn.svm import SVC \n",
        "from sklearn.ensemble import VotingClassifier \n",
        "from sklearn.ensemble import StackingClassifier"
      ]
    },
    {
      "cell_type": "markdown",
      "source": [
        "# Reading the Dataset"
      ],
      "metadata": {
        "id": "koDs7JHB3oZv"
      },
      "id": "koDs7JHB3oZv"
    },
    {
      "cell_type": "code",
      "execution_count": 2,
      "id": "083c5e29",
      "metadata": {
        "colab": {
          "base_uri": "https://localhost:8080/"
        },
        "id": "083c5e29",
        "outputId": "df2f51ae-0d2a-4dbf-ca1e-1d1eb14adb06"
      },
      "outputs": [
        {
          "output_type": "stream",
          "name": "stdout",
          "text": [
            "            ph    Hardness       Solids  Chloramines     Sulfate  \\\n",
            "0          NaN  204.890456  20791.31898     7.300212  368.516441   \n",
            "1     3.716080  129.422921  18630.05786     6.635246         NaN   \n",
            "2     8.099124  224.236259  19909.54173     9.275884         NaN   \n",
            "3     8.316766  214.373394  22018.41744     8.059332  356.886136   \n",
            "4     9.092223  181.101509  17978.98634     6.546600  310.135738   \n",
            "...        ...         ...          ...          ...         ...   \n",
            "3271  4.668102  193.681736  47580.99160     7.166639  359.948574   \n",
            "3272  7.808856  193.553212  17329.80216     8.061362         NaN   \n",
            "3273  9.419510  175.762646  33155.57822     7.350233         NaN   \n",
            "3274  5.126763  230.603758  11983.86938     6.303357         NaN   \n",
            "3275  7.874671  195.102299  17404.17706     7.509306         NaN   \n",
            "\n",
            "      Conductivity  Organic_carbon  Trihalomethanes  Turbidity  Potability  \n",
            "0       564.308654       10.379783        86.990970   2.963135           0  \n",
            "1       592.885359       15.180013        56.329076   4.500656           0  \n",
            "2       418.606213       16.868637        66.420093   3.055934           0  \n",
            "3       363.266516       18.436525       100.341674   4.628771           0  \n",
            "4       398.410813       11.558279        31.997993   4.075075           0  \n",
            "...            ...             ...              ...        ...         ...  \n",
            "3271    526.424171       13.894419        66.687695   4.435821           1  \n",
            "3272    392.449580       19.903225              NaN   2.798243           1  \n",
            "3273    432.044783       11.039070        69.845400   3.298875           1  \n",
            "3274    402.883113       11.168946        77.488213   4.708658           1  \n",
            "3275    327.459761       16.140368        78.698446   2.309149           1  \n",
            "\n",
            "[3276 rows x 10 columns]\n"
          ]
        }
      ],
      "source": [
        "\n",
        "# Read the water_potability.csv file and store the data in a pandas dataframe called wp\n",
        "wp = pd.read_csv(\"/content/water_potability.csv\")\n",
        "print(wp)"
      ]
    },
    {
      "cell_type": "markdown",
      "id": "d6387a3b",
      "metadata": {
        "id": "d6387a3b"
      },
      "source": [
        "# Understanding the Dataset\n"
      ]
    },
    {
      "cell_type": "code",
      "execution_count": 5,
      "id": "f708739c",
      "metadata": {
        "id": "f708739c",
        "outputId": "c9598178-f914-4dbf-e2a4-d138b446920b",
        "colab": {
          "base_uri": "https://localhost:8080/"
        }
      },
      "outputs": [
        {
          "output_type": "execute_result",
          "data": {
            "text/plain": [
              "<bound method DataFrame.info of             ph    Hardness       Solids  Chloramines     Sulfate  \\\n",
              "0          NaN  204.890456  20791.31898     7.300212  368.516441   \n",
              "1     3.716080  129.422921  18630.05786     6.635246         NaN   \n",
              "2     8.099124  224.236259  19909.54173     9.275884         NaN   \n",
              "3     8.316766  214.373394  22018.41744     8.059332  356.886136   \n",
              "4     9.092223  181.101509  17978.98634     6.546600  310.135738   \n",
              "...        ...         ...          ...          ...         ...   \n",
              "3271  4.668102  193.681736  47580.99160     7.166639  359.948574   \n",
              "3272  7.808856  193.553212  17329.80216     8.061362         NaN   \n",
              "3273  9.419510  175.762646  33155.57822     7.350233         NaN   \n",
              "3274  5.126763  230.603758  11983.86938     6.303357         NaN   \n",
              "3275  7.874671  195.102299  17404.17706     7.509306         NaN   \n",
              "\n",
              "      Conductivity  Organic_carbon  Trihalomethanes  Turbidity  Potability  \n",
              "0       564.308654       10.379783        86.990970   2.963135           0  \n",
              "1       592.885359       15.180013        56.329076   4.500656           0  \n",
              "2       418.606213       16.868637        66.420093   3.055934           0  \n",
              "3       363.266516       18.436525       100.341674   4.628771           0  \n",
              "4       398.410813       11.558279        31.997993   4.075075           0  \n",
              "...            ...             ...              ...        ...         ...  \n",
              "3271    526.424171       13.894419        66.687695   4.435821           1  \n",
              "3272    392.449580       19.903225              NaN   2.798243           1  \n",
              "3273    432.044783       11.039070        69.845400   3.298875           1  \n",
              "3274    402.883113       11.168946        77.488213   4.708658           1  \n",
              "3275    327.459761       16.140368        78.698446   2.309149           1  \n",
              "\n",
              "[3276 rows x 10 columns]>"
            ]
          },
          "metadata": {},
          "execution_count": 5
        }
      ],
      "source": [
        "#Getting dataset info\n",
        "wp.info()"
      ]
    },
    {
      "cell_type": "code",
      "execution_count": 3,
      "id": "2e2f223e",
      "metadata": {
        "id": "2e2f223e",
        "outputId": "8575edd7-351e-4b07-f7b2-68a34cefce87",
        "colab": {
          "base_uri": "https://localhost:8080/"
        }
      },
      "outputs": [
        {
          "output_type": "stream",
          "name": "stdout",
          "text": [
            "                ph     Hardness        Solids  Chloramines      Sulfate  \\\n",
            "count  2785.000000  3276.000000   3276.000000  3276.000000  2495.000000   \n",
            "mean      7.080795   196.369496  22014.092526     7.122277   333.775777   \n",
            "std       1.594320    32.879761   8768.570828     1.583085    41.416840   \n",
            "min       0.000000    47.432000    320.942611     0.352000   129.000000   \n",
            "25%       6.093092   176.850538  15666.690300     6.127421   307.699498   \n",
            "50%       7.036752   196.967627  20927.833605     7.130299   333.073546   \n",
            "75%       8.062066   216.667456  27332.762125     8.114887   359.950170   \n",
            "max      14.000000   323.124000  61227.196010    13.127000   481.030642   \n",
            "\n",
            "       Conductivity  Organic_carbon  Trihalomethanes    Turbidity   Potability  \n",
            "count   3276.000000     3276.000000      3114.000000  3276.000000  3276.000000  \n",
            "mean     426.205111       14.284970        66.396293     3.966786     0.390110  \n",
            "std       80.824064        3.308162        16.175008     0.780382     0.487849  \n",
            "min      181.483754        2.200000         0.738000     1.450000     0.000000  \n",
            "25%      365.734414       12.065801        55.844536     3.439711     0.000000  \n",
            "50%      421.884968       14.218338        66.622485     3.955028     0.000000  \n",
            "75%      481.792305       16.557652        77.337473     4.500320     1.000000  \n",
            "max      753.342620       28.300000       124.000000     6.739000     1.000000  \n"
          ]
        }
      ],
      "source": [
        "# Generate descriptive statistics for the water_potability dataframe and display them\n",
        "wp_stats = wp.describe()\n",
        "print(wp_stats)\n"
      ]
    },
    {
      "cell_type": "code",
      "execution_count": 4,
      "id": "da297608",
      "metadata": {
        "id": "da297608",
        "outputId": "823e5540-1b4d-494d-e8fb-02d1187aeae1",
        "colab": {
          "base_uri": "https://localhost:8080/"
        }
      },
      "outputs": [
        {
          "output_type": "execute_result",
          "data": {
            "text/plain": [
              "Index(['ph', 'hardness', 'solids', 'chloramines', 'sulfate', 'conductivity',\n",
              "       'organic_carbon', 'trihalomethanes', 'turbidity', 'potability'],\n",
              "      dtype='object')"
            ]
          },
          "metadata": {},
          "execution_count": 4
        }
      ],
      "source": [
        "# Convert the column names of the  dataframe to lowercase\n",
        "wp.columns = wp.columns.str.lower()\n",
        "wp.columns\n"
      ]
    },
    {
      "cell_type": "code",
      "execution_count": 5,
      "id": "d4aed8bd",
      "metadata": {
        "id": "d4aed8bd",
        "outputId": "8590f32e-fcb5-4136-ed53-733bea4e276d",
        "colab": {
          "base_uri": "https://localhost:8080/"
        }
      },
      "outputs": [
        {
          "output_type": "stream",
          "name": "stdout",
          "text": [
            "ph                 491\n",
            "hardness             0\n",
            "solids               0\n",
            "chloramines          0\n",
            "sulfate            781\n",
            "conductivity         0\n",
            "organic_carbon       0\n",
            "trihalomethanes    162\n",
            "turbidity            0\n",
            "potability           0\n",
            "dtype: int64\n"
          ]
        }
      ],
      "source": [
        "# Count the number of missing values in each column of the water_potability dataframe and display them\n",
        "wp_missing_values = wp.isnull().sum()\n",
        "print(wp_missing_values)\n"
      ]
    },
    {
      "cell_type": "code",
      "execution_count": 6,
      "id": "979bd403",
      "metadata": {
        "id": "979bd403"
      },
      "outputs": [],
      "source": [
        "# Fill missing values in the 'ph', 'sulfate', and 'trihalomethanes' columns with their respective median values\n",
        "wp['ph'] = wp['ph'].fillna(wp['ph'].median())\n",
        "wp['sulfate'] = wp['sulfate'].fillna(wp['sulfate'].median())\n",
        "wp['trihalomethanes'] = wp['trihalomethanes'].fillna(wp['trihalomethanes'].median())\n"
      ]
    },
    {
      "cell_type": "code",
      "execution_count": 7,
      "id": "06ee70a1",
      "metadata": {
        "id": "06ee70a1"
      },
      "outputs": [],
      "source": [
        "# adding a additional variable (pH_category) for modeling section \n",
        "wp['ph_category'] = wp['ph'].apply(lambda value: 'acidic level' if value < 6.5 else 'alkaline level' if value > 8.5 else 'normal pH_surface water')\n",
        "wp['ph_category'] = pd.Categorical(wp['ph_category'], \n",
        "                                      categories=['acidic level', 'alkaline level', 'normal pH_surface water'])"
      ]
    },
    {
      "cell_type": "code",
      "execution_count": 19,
      "id": "a6e21733",
      "metadata": {
        "id": "a6e21733",
        "outputId": "b6e81067-5111-4d43-8b5c-a137ad360b29",
        "colab": {
          "base_uri": "https://localhost:8080/",
          "height": 274
        }
      },
      "outputs": [
        {
          "output_type": "execute_result",
          "data": {
            "text/plain": [
              "            ph    hardness       solids  chloramines     sulfate  \\\n",
              "1720  5.621227  221.649439  11123.88616     8.809433  314.871342   \n",
              "1681  7.460148  221.343210  25480.91841     6.926943  333.073546   \n",
              "1209  7.828740  176.727511  33337.10965     5.438776  286.992631   \n",
              "\n",
              "      conductivity  organic_carbon  trihalomethanes  turbidity  potability  \\\n",
              "1720    326.350872       19.312536        84.377323   3.440753           0   \n",
              "1681    438.619635       13.089086        58.083993   2.413629           0   \n",
              "1209    290.118613        5.871941        75.714425   5.199447           1   \n",
              "\n",
              "                  ph_category  \n",
              "1720             acidic level  \n",
              "1681  normal pH_surface water  \n",
              "1209  normal pH_surface water  "
            ],
            "text/html": [
              "\n",
              "  <div id=\"df-c55c6829-1bfa-49bb-a5fc-2ce5fbb0f701\">\n",
              "    <div class=\"colab-df-container\">\n",
              "      <div>\n",
              "<style scoped>\n",
              "    .dataframe tbody tr th:only-of-type {\n",
              "        vertical-align: middle;\n",
              "    }\n",
              "\n",
              "    .dataframe tbody tr th {\n",
              "        vertical-align: top;\n",
              "    }\n",
              "\n",
              "    .dataframe thead th {\n",
              "        text-align: right;\n",
              "    }\n",
              "</style>\n",
              "<table border=\"1\" class=\"dataframe\">\n",
              "  <thead>\n",
              "    <tr style=\"text-align: right;\">\n",
              "      <th></th>\n",
              "      <th>ph</th>\n",
              "      <th>hardness</th>\n",
              "      <th>solids</th>\n",
              "      <th>chloramines</th>\n",
              "      <th>sulfate</th>\n",
              "      <th>conductivity</th>\n",
              "      <th>organic_carbon</th>\n",
              "      <th>trihalomethanes</th>\n",
              "      <th>turbidity</th>\n",
              "      <th>potability</th>\n",
              "      <th>ph_category</th>\n",
              "    </tr>\n",
              "  </thead>\n",
              "  <tbody>\n",
              "    <tr>\n",
              "      <th>1720</th>\n",
              "      <td>5.621227</td>\n",
              "      <td>221.649439</td>\n",
              "      <td>11123.88616</td>\n",
              "      <td>8.809433</td>\n",
              "      <td>314.871342</td>\n",
              "      <td>326.350872</td>\n",
              "      <td>19.312536</td>\n",
              "      <td>84.377323</td>\n",
              "      <td>3.440753</td>\n",
              "      <td>0</td>\n",
              "      <td>acidic level</td>\n",
              "    </tr>\n",
              "    <tr>\n",
              "      <th>1681</th>\n",
              "      <td>7.460148</td>\n",
              "      <td>221.343210</td>\n",
              "      <td>25480.91841</td>\n",
              "      <td>6.926943</td>\n",
              "      <td>333.073546</td>\n",
              "      <td>438.619635</td>\n",
              "      <td>13.089086</td>\n",
              "      <td>58.083993</td>\n",
              "      <td>2.413629</td>\n",
              "      <td>0</td>\n",
              "      <td>normal pH_surface water</td>\n",
              "    </tr>\n",
              "    <tr>\n",
              "      <th>1209</th>\n",
              "      <td>7.828740</td>\n",
              "      <td>176.727511</td>\n",
              "      <td>33337.10965</td>\n",
              "      <td>5.438776</td>\n",
              "      <td>286.992631</td>\n",
              "      <td>290.118613</td>\n",
              "      <td>5.871941</td>\n",
              "      <td>75.714425</td>\n",
              "      <td>5.199447</td>\n",
              "      <td>1</td>\n",
              "      <td>normal pH_surface water</td>\n",
              "    </tr>\n",
              "  </tbody>\n",
              "</table>\n",
              "</div>\n",
              "      <button class=\"colab-df-convert\" onclick=\"convertToInteractive('df-c55c6829-1bfa-49bb-a5fc-2ce5fbb0f701')\"\n",
              "              title=\"Convert this dataframe to an interactive table.\"\n",
              "              style=\"display:none;\">\n",
              "        \n",
              "  <svg xmlns=\"http://www.w3.org/2000/svg\" height=\"24px\"viewBox=\"0 0 24 24\"\n",
              "       width=\"24px\">\n",
              "    <path d=\"M0 0h24v24H0V0z\" fill=\"none\"/>\n",
              "    <path d=\"M18.56 5.44l.94 2.06.94-2.06 2.06-.94-2.06-.94-.94-2.06-.94 2.06-2.06.94zm-11 1L8.5 8.5l.94-2.06 2.06-.94-2.06-.94L8.5 2.5l-.94 2.06-2.06.94zm10 10l.94 2.06.94-2.06 2.06-.94-2.06-.94-.94-2.06-.94 2.06-2.06.94z\"/><path d=\"M17.41 7.96l-1.37-1.37c-.4-.4-.92-.59-1.43-.59-.52 0-1.04.2-1.43.59L10.3 9.45l-7.72 7.72c-.78.78-.78 2.05 0 2.83L4 21.41c.39.39.9.59 1.41.59.51 0 1.02-.2 1.41-.59l7.78-7.78 2.81-2.81c.8-.78.8-2.07 0-2.86zM5.41 20L4 18.59l7.72-7.72 1.47 1.35L5.41 20z\"/>\n",
              "  </svg>\n",
              "      </button>\n",
              "      \n",
              "  <style>\n",
              "    .colab-df-container {\n",
              "      display:flex;\n",
              "      flex-wrap:wrap;\n",
              "      gap: 12px;\n",
              "    }\n",
              "\n",
              "    .colab-df-convert {\n",
              "      background-color: #E8F0FE;\n",
              "      border: none;\n",
              "      border-radius: 50%;\n",
              "      cursor: pointer;\n",
              "      display: none;\n",
              "      fill: #1967D2;\n",
              "      height: 32px;\n",
              "      padding: 0 0 0 0;\n",
              "      width: 32px;\n",
              "    }\n",
              "\n",
              "    .colab-df-convert:hover {\n",
              "      background-color: #E2EBFA;\n",
              "      box-shadow: 0px 1px 2px rgba(60, 64, 67, 0.3), 0px 1px 3px 1px rgba(60, 64, 67, 0.15);\n",
              "      fill: #174EA6;\n",
              "    }\n",
              "\n",
              "    [theme=dark] .colab-df-convert {\n",
              "      background-color: #3B4455;\n",
              "      fill: #D2E3FC;\n",
              "    }\n",
              "\n",
              "    [theme=dark] .colab-df-convert:hover {\n",
              "      background-color: #434B5C;\n",
              "      box-shadow: 0px 1px 3px 1px rgba(0, 0, 0, 0.15);\n",
              "      filter: drop-shadow(0px 1px 2px rgba(0, 0, 0, 0.3));\n",
              "      fill: #FFFFFF;\n",
              "    }\n",
              "  </style>\n",
              "\n",
              "      <script>\n",
              "        const buttonEl =\n",
              "          document.querySelector('#df-c55c6829-1bfa-49bb-a5fc-2ce5fbb0f701 button.colab-df-convert');\n",
              "        buttonEl.style.display =\n",
              "          google.colab.kernel.accessAllowed ? 'block' : 'none';\n",
              "\n",
              "        async function convertToInteractive(key) {\n",
              "          const element = document.querySelector('#df-c55c6829-1bfa-49bb-a5fc-2ce5fbb0f701');\n",
              "          const dataTable =\n",
              "            await google.colab.kernel.invokeFunction('convertToInteractive',\n",
              "                                                     [key], {});\n",
              "          if (!dataTable) return;\n",
              "\n",
              "          const docLinkHtml = 'Like what you see? Visit the ' +\n",
              "            '<a target=\"_blank\" href=https://colab.research.google.com/notebooks/data_table.ipynb>data table notebook</a>'\n",
              "            + ' to learn more about interactive tables.';\n",
              "          element.innerHTML = '';\n",
              "          dataTable['output_type'] = 'display_data';\n",
              "          await google.colab.output.renderOutput(dataTable, element);\n",
              "          const docLink = document.createElement('div');\n",
              "          docLink.innerHTML = docLinkHtml;\n",
              "          element.appendChild(docLink);\n",
              "        }\n",
              "      </script>\n",
              "    </div>\n",
              "  </div>\n",
              "  "
            ]
          },
          "metadata": {},
          "execution_count": 19
        }
      ],
      "source": [
        "# checking the variable has been added \n",
        "wp.sample(3)"
      ]
    },
    {
      "cell_type": "code",
      "execution_count": 8,
      "id": "02c6a6e2",
      "metadata": {
        "id": "02c6a6e2",
        "outputId": "1a405ad3-fec4-4c62-a065-b1dea1a6faf1",
        "colab": {
          "base_uri": "https://localhost:8080/"
        }
      },
      "outputs": [
        {
          "output_type": "stream",
          "name": "stdout",
          "text": [
            "(3276, 11)\n"
          ]
        }
      ],
      "source": [
        "# Display the shape of the water_potability dataframe\n",
        "wp_shape = wp.shape\n",
        "print(wp_shape)\n"
      ]
    },
    {
      "cell_type": "markdown",
      "id": "1fa20e50",
      "metadata": {
        "id": "1fa20e50"
      },
      "source": [
        "# Modeling"
      ]
    },
    {
      "cell_type": "code",
      "execution_count": 10,
      "id": "b22b8525",
      "metadata": {
        "id": "b22b8525"
      },
      "outputs": [],
      "source": [
        "# Split the water_potability dataframe into input features (X) and target variable (Y)\n",
        "X = wp[wp.columns[:-2]]\n",
        "Y = wp['potability']\n"
      ]
    },
    {
      "cell_type": "code",
      "execution_count": 11,
      "id": "d318bdbf",
      "metadata": {
        "id": "d318bdbf",
        "outputId": "b9fa1070-5a8b-48fa-d070-45a6d5fc88f3",
        "colab": {
          "base_uri": "https://localhost:8080/"
        }
      },
      "outputs": [
        {
          "output_type": "stream",
          "name": "stdout",
          "text": [
            "Target_train:  Counter({0: 1488, 1: 969})\n",
            "Target_test: Counter({0: 510, 1: 309})\n",
            "Features: ['ph', 'hardness', 'solids', 'chloramines', 'sulfate', 'conductivity', 'organic_carbon', 'trihalomethanes', 'turbidity']\n"
          ]
        }
      ],
      "source": [
        "# Split the input features (X) and target variable (Y) into training and testing sets\n",
        "X_train, X_test, Y_train, Y_test = train_test_split(X, Y, test_size=0.25, random_state=42)\n",
        "\n",
        "# Count the number of target variable values in the training and testing sets\n",
        "print('Target_train: ', Counter(Y_train))\n",
        "print('Target_test:',Counter(Y_test))\n",
        "\n",
        "# Print the list of input features\n",
        "print('Features:', list(wp.columns[0:-2]))\n"
      ]
    },
    {
      "cell_type": "code",
      "execution_count": 12,
      "id": "1bdc6225",
      "metadata": {
        "id": "1bdc6225"
      },
      "outputs": [],
      "source": [
        "# Initialize a MinMaxScaler object\n",
        "scaler = MinMaxScaler()\n",
        "\n",
        "# Fit the scaler object to the training set to learn the scaling parameters\n",
        "scaler.fit(X_train)\n",
        "\n",
        "# Use the learned scaling parameters to transform the training set\n",
        "X_train = scaler.transform(X_train)\n",
        "\n",
        "# Use the same scaling parameters to transform the testing set\n",
        "X_test = scaler.transform(X_test)\n"
      ]
    },
    {
      "cell_type": "code",
      "execution_count": 16,
      "id": "72228f79",
      "metadata": {
        "scrolled": true,
        "id": "72228f79",
        "outputId": "09efaa00-fe39-484f-8962-ba36308f25e8",
        "colab": {
          "base_uri": "https://localhost:8080/"
        }
      },
      "outputs": [
        {
          "output_type": "stream",
          "name": "stdout",
          "text": [
            "Baseline Model Accuracy: 67.16 %\n"
          ]
        }
      ],
      "source": [
        "# Initialize a Random Forest classifier with balanced class weights and the ability to use all available CPUs (-1)\n",
        "rf_clf = RF(random_state=42, class_weight='balanced', n_jobs=-1)\n",
        "\n",
        "# Fit the Random Forest classifier to the training data\n",
        "rf_clf.fit(X_train, Y_train)\n",
        "\n",
        "# Use the trained model to make predictions on the test set\n",
        "y_pred = rf_clf.predict(X_test)\n",
        "\n",
        "# Calculate the accuracy of the predictions\n",
        "ac = round(accuracy_score(Y_test, y_pred)*100,2)\n",
        "\n",
        "# Print the accuracy score of the baseline model\n",
        "print(\"Baseline Model Accuracy:\", ac, \"%\")"
      ]
    },
    {
      "cell_type": "code",
      "execution_count": 18,
      "id": "3c1933be",
      "metadata": {
        "scrolled": false,
        "id": "3c1933be",
        "outputId": "720ee030-cd54-446d-9d43-04aee29e9c42",
        "colab": {
          "base_uri": "https://localhost:8080/",
          "height": 1000
        }
      },
      "outputs": [
        {
          "output_type": "stream",
          "name": "stdout",
          "text": [
            "Iteration: \t1 / 100\n",
            "Confirmed: \t0\n",
            "Tentative: \t9\n",
            "Rejected: \t0\n",
            "Iteration: \t2 / 100\n",
            "Confirmed: \t0\n",
            "Tentative: \t9\n",
            "Rejected: \t0\n",
            "Iteration: \t3 / 100\n",
            "Confirmed: \t0\n",
            "Tentative: \t9\n",
            "Rejected: \t0\n",
            "Iteration: \t4 / 100\n",
            "Confirmed: \t0\n",
            "Tentative: \t9\n",
            "Rejected: \t0\n",
            "Iteration: \t5 / 100\n",
            "Confirmed: \t0\n",
            "Tentative: \t9\n",
            "Rejected: \t0\n",
            "Iteration: \t6 / 100\n",
            "Confirmed: \t0\n",
            "Tentative: \t9\n",
            "Rejected: \t0\n",
            "Iteration: \t7 / 100\n",
            "Confirmed: \t0\n",
            "Tentative: \t9\n",
            "Rejected: \t0\n",
            "Iteration: \t8 / 100\n",
            "Confirmed: \t4\n",
            "Tentative: \t1\n",
            "Rejected: \t4\n",
            "Iteration: \t9 / 100\n",
            "Confirmed: \t4\n",
            "Tentative: \t1\n",
            "Rejected: \t4\n",
            "Iteration: \t10 / 100\n",
            "Confirmed: \t4\n",
            "Tentative: \t1\n",
            "Rejected: \t4\n",
            "Iteration: \t11 / 100\n",
            "Confirmed: \t4\n",
            "Tentative: \t1\n",
            "Rejected: \t4\n",
            "Iteration: \t12 / 100\n",
            "Confirmed: \t5\n",
            "Tentative: \t0\n",
            "Rejected: \t4\n",
            "\n",
            "\n",
            "BorutaPy finished running.\n",
            "\n",
            "Iteration: \t13 / 100\n",
            "Confirmed: \t5\n",
            "Tentative: \t0\n",
            "Rejected: \t4\n"
          ]
        },
        {
          "output_type": "execute_result",
          "data": {
            "text/plain": [
              "BorutaPy(estimator=RandomForestClassifier(class_weight='balanced',\n",
              "                                          n_estimators=31, n_jobs=-1,\n",
              "                                          random_state=RandomState(MT19937) at 0x7F782D50EB40),\n",
              "         n_estimators='auto',\n",
              "         random_state=RandomState(MT19937) at 0x7F782D50EB40, verbose=2)"
            ],
            "text/html": [
              "<style>#sk-container-id-2 {color: black;background-color: white;}#sk-container-id-2 pre{padding: 0;}#sk-container-id-2 div.sk-toggleable {background-color: white;}#sk-container-id-2 label.sk-toggleable__label {cursor: pointer;display: block;width: 100%;margin-bottom: 0;padding: 0.3em;box-sizing: border-box;text-align: center;}#sk-container-id-2 label.sk-toggleable__label-arrow:before {content: \"▸\";float: left;margin-right: 0.25em;color: #696969;}#sk-container-id-2 label.sk-toggleable__label-arrow:hover:before {color: black;}#sk-container-id-2 div.sk-estimator:hover label.sk-toggleable__label-arrow:before {color: black;}#sk-container-id-2 div.sk-toggleable__content {max-height: 0;max-width: 0;overflow: hidden;text-align: left;background-color: #f0f8ff;}#sk-container-id-2 div.sk-toggleable__content pre {margin: 0.2em;color: black;border-radius: 0.25em;background-color: #f0f8ff;}#sk-container-id-2 input.sk-toggleable__control:checked~div.sk-toggleable__content {max-height: 200px;max-width: 100%;overflow: auto;}#sk-container-id-2 input.sk-toggleable__control:checked~label.sk-toggleable__label-arrow:before {content: \"▾\";}#sk-container-id-2 div.sk-estimator input.sk-toggleable__control:checked~label.sk-toggleable__label {background-color: #d4ebff;}#sk-container-id-2 div.sk-label input.sk-toggleable__control:checked~label.sk-toggleable__label {background-color: #d4ebff;}#sk-container-id-2 input.sk-hidden--visually {border: 0;clip: rect(1px 1px 1px 1px);clip: rect(1px, 1px, 1px, 1px);height: 1px;margin: -1px;overflow: hidden;padding: 0;position: absolute;width: 1px;}#sk-container-id-2 div.sk-estimator {font-family: monospace;background-color: #f0f8ff;border: 1px dotted black;border-radius: 0.25em;box-sizing: border-box;margin-bottom: 0.5em;}#sk-container-id-2 div.sk-estimator:hover {background-color: #d4ebff;}#sk-container-id-2 div.sk-parallel-item::after {content: \"\";width: 100%;border-bottom: 1px solid gray;flex-grow: 1;}#sk-container-id-2 div.sk-label:hover label.sk-toggleable__label {background-color: #d4ebff;}#sk-container-id-2 div.sk-serial::before {content: \"\";position: absolute;border-left: 1px solid gray;box-sizing: border-box;top: 0;bottom: 0;left: 50%;z-index: 0;}#sk-container-id-2 div.sk-serial {display: flex;flex-direction: column;align-items: center;background-color: white;padding-right: 0.2em;padding-left: 0.2em;position: relative;}#sk-container-id-2 div.sk-item {position: relative;z-index: 1;}#sk-container-id-2 div.sk-parallel {display: flex;align-items: stretch;justify-content: center;background-color: white;position: relative;}#sk-container-id-2 div.sk-item::before, #sk-container-id-2 div.sk-parallel-item::before {content: \"\";position: absolute;border-left: 1px solid gray;box-sizing: border-box;top: 0;bottom: 0;left: 50%;z-index: -1;}#sk-container-id-2 div.sk-parallel-item {display: flex;flex-direction: column;z-index: 1;position: relative;background-color: white;}#sk-container-id-2 div.sk-parallel-item:first-child::after {align-self: flex-end;width: 50%;}#sk-container-id-2 div.sk-parallel-item:last-child::after {align-self: flex-start;width: 50%;}#sk-container-id-2 div.sk-parallel-item:only-child::after {width: 0;}#sk-container-id-2 div.sk-dashed-wrapped {border: 1px dashed gray;margin: 0 0.4em 0.5em 0.4em;box-sizing: border-box;padding-bottom: 0.4em;background-color: white;}#sk-container-id-2 div.sk-label label {font-family: monospace;font-weight: bold;display: inline-block;line-height: 1.2em;}#sk-container-id-2 div.sk-label-container {text-align: center;}#sk-container-id-2 div.sk-container {/* jupyter's `normalize.less` sets `[hidden] { display: none; }` but bootstrap.min.css set `[hidden] { display: none !important; }` so we also need the `!important` here to be able to override the default hidden behavior on the sphinx rendered scikit-learn.org. See: https://github.com/scikit-learn/scikit-learn/issues/21755 */display: inline-block !important;position: relative;}#sk-container-id-2 div.sk-text-repr-fallback {display: none;}</style><div id=\"sk-container-id-2\" class=\"sk-top-container\"><div class=\"sk-text-repr-fallback\"><pre>BorutaPy(estimator=RandomForestClassifier(class_weight=&#x27;balanced&#x27;,\n",
              "                                          n_estimators=31, n_jobs=-1,\n",
              "                                          random_state=RandomState(MT19937) at 0x7F782D50EB40),\n",
              "         n_estimators=&#x27;auto&#x27;,\n",
              "         random_state=RandomState(MT19937) at 0x7F782D50EB40, verbose=2)</pre><b>In a Jupyter environment, please rerun this cell to show the HTML representation or trust the notebook. <br />On GitHub, the HTML representation is unable to render, please try loading this page with nbviewer.org.</b></div><div class=\"sk-container\" hidden><div class=\"sk-item sk-dashed-wrapped\"><div class=\"sk-label-container\"><div class=\"sk-label sk-toggleable\"><input class=\"sk-toggleable__control sk-hidden--visually\" id=\"sk-estimator-id-4\" type=\"checkbox\" ><label for=\"sk-estimator-id-4\" class=\"sk-toggleable__label sk-toggleable__label-arrow\">BorutaPy</label><div class=\"sk-toggleable__content\"><pre>BorutaPy(estimator=RandomForestClassifier(class_weight=&#x27;balanced&#x27;,\n",
              "                                          n_estimators=31, n_jobs=-1,\n",
              "                                          random_state=RandomState(MT19937) at 0x7F782D50EB40),\n",
              "         n_estimators=&#x27;auto&#x27;,\n",
              "         random_state=RandomState(MT19937) at 0x7F782D50EB40, verbose=2)</pre></div></div></div><div class=\"sk-parallel\"><div class=\"sk-parallel-item\"><div class=\"sk-item\"><div class=\"sk-label-container\"><div class=\"sk-label sk-toggleable\"><input class=\"sk-toggleable__control sk-hidden--visually\" id=\"sk-estimator-id-5\" type=\"checkbox\" ><label for=\"sk-estimator-id-5\" class=\"sk-toggleable__label sk-toggleable__label-arrow\">estimator: RandomForestClassifier</label><div class=\"sk-toggleable__content\"><pre>RandomForestClassifier(class_weight=&#x27;balanced&#x27;, n_estimators=31, n_jobs=-1,\n",
              "                       random_state=RandomState(MT19937) at 0x7F782D50EB40)</pre></div></div></div><div class=\"sk-serial\"><div class=\"sk-item\"><div class=\"sk-estimator sk-toggleable\"><input class=\"sk-toggleable__control sk-hidden--visually\" id=\"sk-estimator-id-6\" type=\"checkbox\" ><label for=\"sk-estimator-id-6\" class=\"sk-toggleable__label sk-toggleable__label-arrow\">RandomForestClassifier</label><div class=\"sk-toggleable__content\"><pre>RandomForestClassifier(class_weight=&#x27;balanced&#x27;, n_estimators=31, n_jobs=-1,\n",
              "                       random_state=RandomState(MT19937) at 0x7F782D50EB40)</pre></div></div></div></div></div></div></div></div></div></div>"
            ]
          },
          "metadata": {},
          "execution_count": 18
        }
      ],
      "source": [
        "# Initialize a Boruta feature selector with the previously trained Random Forest classifier, using 'auto' to determine the number of trees in the forest and setting the random state to ensure reproducibility\n",
        "boruta_selector = BorutaPy(rf_clf, n_estimators='auto', verbose=2, random_state=42)\n",
        "\n",
        "# Fit the Boruta feature selector to the training data by passing in the feature and target variables as numpy arrays\n",
        "boruta_selector.fit(np.array(X_train), np.array(Y_train))"
      ]
    },
    {
      "cell_type": "code",
      "execution_count": 19,
      "id": "7829bc0f",
      "metadata": {
        "id": "7829bc0f",
        "outputId": "ac18b85e-775f-449f-f565-47f605bf0aca",
        "colab": {
          "base_uri": "https://localhost:8080/"
        }
      },
      "outputs": [
        {
          "output_type": "stream",
          "name": "stdout",
          "text": [
            "Selected Features:  [ True  True  True  True  True False False False False]\n",
            "Ranking:  [1 1 1 1 1 2 3 5 4]\n",
            "No. of significant features:  5\n"
          ]
        }
      ],
      "source": [
        "# Print the list of selected features by the Boruta feature selector\n",
        "print(\"Selected Features: \", boruta_selector.support_)\n",
        "\n",
        "# Print the ranking of all features by the Boruta feature selector\n",
        "print(\"Ranking: \",boruta_selector.ranking_)\n",
        "\n",
        "# Print the number of significant features identified by the Boruta feature selector\n",
        "print(\"No. of significant features: \", boruta_selector.n_features_)\n"
      ]
    },
    {
      "cell_type": "code",
      "execution_count": 20,
      "id": "3982db87",
      "metadata": {
        "id": "3982db87",
        "outputId": "e5ac712f-df9d-4a4f-d54b-fbe2ff3b5330",
        "colab": {
          "base_uri": "https://localhost:8080/",
          "height": 328
        }
      },
      "outputs": [
        {
          "output_type": "execute_result",
          "data": {
            "text/plain": [
              "           Feature  Ranking\n",
              "0               ph        1\n",
              "1         hardness        1\n",
              "2           solids        1\n",
              "3      chloramines        1\n",
              "4          sulfate        1\n",
              "5     conductivity        2\n",
              "6   organic_carbon        3\n",
              "8        turbidity        4\n",
              "7  trihalomethanes        5"
            ],
            "text/html": [
              "\n",
              "  <div id=\"df-d1b2f2d4-e502-4e5d-bc1f-1228a6dd23b9\">\n",
              "    <div class=\"colab-df-container\">\n",
              "      <div>\n",
              "<style scoped>\n",
              "    .dataframe tbody tr th:only-of-type {\n",
              "        vertical-align: middle;\n",
              "    }\n",
              "\n",
              "    .dataframe tbody tr th {\n",
              "        vertical-align: top;\n",
              "    }\n",
              "\n",
              "    .dataframe thead th {\n",
              "        text-align: right;\n",
              "    }\n",
              "</style>\n",
              "<table border=\"1\" class=\"dataframe\">\n",
              "  <thead>\n",
              "    <tr style=\"text-align: right;\">\n",
              "      <th></th>\n",
              "      <th>Feature</th>\n",
              "      <th>Ranking</th>\n",
              "    </tr>\n",
              "  </thead>\n",
              "  <tbody>\n",
              "    <tr>\n",
              "      <th>0</th>\n",
              "      <td>ph</td>\n",
              "      <td>1</td>\n",
              "    </tr>\n",
              "    <tr>\n",
              "      <th>1</th>\n",
              "      <td>hardness</td>\n",
              "      <td>1</td>\n",
              "    </tr>\n",
              "    <tr>\n",
              "      <th>2</th>\n",
              "      <td>solids</td>\n",
              "      <td>1</td>\n",
              "    </tr>\n",
              "    <tr>\n",
              "      <th>3</th>\n",
              "      <td>chloramines</td>\n",
              "      <td>1</td>\n",
              "    </tr>\n",
              "    <tr>\n",
              "      <th>4</th>\n",
              "      <td>sulfate</td>\n",
              "      <td>1</td>\n",
              "    </tr>\n",
              "    <tr>\n",
              "      <th>5</th>\n",
              "      <td>conductivity</td>\n",
              "      <td>2</td>\n",
              "    </tr>\n",
              "    <tr>\n",
              "      <th>6</th>\n",
              "      <td>organic_carbon</td>\n",
              "      <td>3</td>\n",
              "    </tr>\n",
              "    <tr>\n",
              "      <th>8</th>\n",
              "      <td>turbidity</td>\n",
              "      <td>4</td>\n",
              "    </tr>\n",
              "    <tr>\n",
              "      <th>7</th>\n",
              "      <td>trihalomethanes</td>\n",
              "      <td>5</td>\n",
              "    </tr>\n",
              "  </tbody>\n",
              "</table>\n",
              "</div>\n",
              "      <button class=\"colab-df-convert\" onclick=\"convertToInteractive('df-d1b2f2d4-e502-4e5d-bc1f-1228a6dd23b9')\"\n",
              "              title=\"Convert this dataframe to an interactive table.\"\n",
              "              style=\"display:none;\">\n",
              "        \n",
              "  <svg xmlns=\"http://www.w3.org/2000/svg\" height=\"24px\"viewBox=\"0 0 24 24\"\n",
              "       width=\"24px\">\n",
              "    <path d=\"M0 0h24v24H0V0z\" fill=\"none\"/>\n",
              "    <path d=\"M18.56 5.44l.94 2.06.94-2.06 2.06-.94-2.06-.94-.94-2.06-.94 2.06-2.06.94zm-11 1L8.5 8.5l.94-2.06 2.06-.94-2.06-.94L8.5 2.5l-.94 2.06-2.06.94zm10 10l.94 2.06.94-2.06 2.06-.94-2.06-.94-.94-2.06-.94 2.06-2.06.94z\"/><path d=\"M17.41 7.96l-1.37-1.37c-.4-.4-.92-.59-1.43-.59-.52 0-1.04.2-1.43.59L10.3 9.45l-7.72 7.72c-.78.78-.78 2.05 0 2.83L4 21.41c.39.39.9.59 1.41.59.51 0 1.02-.2 1.41-.59l7.78-7.78 2.81-2.81c.8-.78.8-2.07 0-2.86zM5.41 20L4 18.59l7.72-7.72 1.47 1.35L5.41 20z\"/>\n",
              "  </svg>\n",
              "      </button>\n",
              "      \n",
              "  <style>\n",
              "    .colab-df-container {\n",
              "      display:flex;\n",
              "      flex-wrap:wrap;\n",
              "      gap: 12px;\n",
              "    }\n",
              "\n",
              "    .colab-df-convert {\n",
              "      background-color: #E8F0FE;\n",
              "      border: none;\n",
              "      border-radius: 50%;\n",
              "      cursor: pointer;\n",
              "      display: none;\n",
              "      fill: #1967D2;\n",
              "      height: 32px;\n",
              "      padding: 0 0 0 0;\n",
              "      width: 32px;\n",
              "    }\n",
              "\n",
              "    .colab-df-convert:hover {\n",
              "      background-color: #E2EBFA;\n",
              "      box-shadow: 0px 1px 2px rgba(60, 64, 67, 0.3), 0px 1px 3px 1px rgba(60, 64, 67, 0.15);\n",
              "      fill: #174EA6;\n",
              "    }\n",
              "\n",
              "    [theme=dark] .colab-df-convert {\n",
              "      background-color: #3B4455;\n",
              "      fill: #D2E3FC;\n",
              "    }\n",
              "\n",
              "    [theme=dark] .colab-df-convert:hover {\n",
              "      background-color: #434B5C;\n",
              "      box-shadow: 0px 1px 3px 1px rgba(0, 0, 0, 0.15);\n",
              "      filter: drop-shadow(0px 1px 2px rgba(0, 0, 0, 0.3));\n",
              "      fill: #FFFFFF;\n",
              "    }\n",
              "  </style>\n",
              "\n",
              "      <script>\n",
              "        const buttonEl =\n",
              "          document.querySelector('#df-d1b2f2d4-e502-4e5d-bc1f-1228a6dd23b9 button.colab-df-convert');\n",
              "        buttonEl.style.display =\n",
              "          google.colab.kernel.accessAllowed ? 'block' : 'none';\n",
              "\n",
              "        async function convertToInteractive(key) {\n",
              "          const element = document.querySelector('#df-d1b2f2d4-e502-4e5d-bc1f-1228a6dd23b9');\n",
              "          const dataTable =\n",
              "            await google.colab.kernel.invokeFunction('convertToInteractive',\n",
              "                                                     [key], {});\n",
              "          if (!dataTable) return;\n",
              "\n",
              "          const docLinkHtml = 'Like what you see? Visit the ' +\n",
              "            '<a target=\"_blank\" href=https://colab.research.google.com/notebooks/data_table.ipynb>data table notebook</a>'\n",
              "            + ' to learn more about interactive tables.';\n",
              "          element.innerHTML = '';\n",
              "          dataTable['output_type'] = 'display_data';\n",
              "          await google.colab.output.renderOutput(dataTable, element);\n",
              "          const docLink = document.createElement('div');\n",
              "          docLink.innerHTML = docLinkHtml;\n",
              "          element.appendChild(docLink);\n",
              "        }\n",
              "      </script>\n",
              "    </div>\n",
              "  </div>\n",
              "  "
            ]
          },
          "metadata": {},
          "execution_count": 20
        }
      ],
      "source": [
        "# Create a Pandas DataFrame of the feature rankings identified by the Boruta feature selector\n",
        "selected_rfe_features = pd.DataFrame({'Feature':list(X.columns),\n",
        "                                      'Ranking':boruta_selector.ranking_})\n",
        "\n",
        "# Sort the DataFrame by ranking\n",
        "selected_rfe_features.sort_values(by='Ranking')\n"
      ]
    },
    {
      "cell_type": "code",
      "execution_count": 21,
      "id": "7d684a50",
      "metadata": {
        "id": "7d684a50"
      },
      "outputs": [],
      "source": [
        "#Transforms the training and test datasets \n",
        "#by selecting the important features identified by the Boruta feature selection algorithm\n",
        "\n",
        "X_important_train = boruta_selector.transform(np.array(X_train))\n",
        "X_important_test = boruta_selector.transform(np.array(X_test))"
      ]
    },
    {
      "cell_type": "code",
      "source": [
        "#Create an empty list to store the classifiers\n",
        "\n",
        "classifiers = []\n",
        "\n",
        "#Initialize and append the classifiers to the list\n",
        "\n",
        "#Logistic Regression classifier\n",
        "\n",
        "log_reg = LogisticRegression(max_iter=10000, class_weight='balanced')\n",
        "classifiers.append(log_reg)\n",
        "\n",
        "#Ridge Classifier\n",
        "\n",
        "ridge_clf = RidgeClassifier(random_state=42, class_weight='balanced')\n",
        "classifiers.append(ridge_clf)\n",
        "\n",
        "#K-Nearest Neighbors classifier\n",
        "\n",
        "knn_neg = KNeighborsClassifier(metric='euclidean')\n",
        "classifiers.append(knn_neg)\n",
        "\n",
        "#Decision Tree Classifier\n",
        "\n",
        "dt_clf = DT(random_state=42, class_weight='balanced')\n",
        "classifiers.append(dt_clf)\n",
        "\n",
        "#Random Forest Classifier\n",
        "\n",
        "rf_clf = RF(random_state=42, class_weight='balanced',n_estimators=500)\n",
        "classifiers.append(rf_clf)\n",
        "\n",
        "#Extra Trees Classifier\n",
        "\n",
        "etree_clf = ET(random_state=42, class_weight='balanced')\n",
        "classifiers.append(etree_clf)\n",
        "\n",
        "#AdaBoost Classifier\n",
        "\n",
        "ab_clf = AB(random_state=42)\n",
        "classifiers.append(ab_clf)\n",
        "\n",
        "#XGBoost Classifier\n",
        "\n",
        "xgb_clf = XGBClassifier(objective=\"binary:logistic\", random_state=42)\n",
        "classifiers.append(xgb_clf)\n",
        "\n",
        "#Gaussian Naive Bayes Classifier\n",
        "\n",
        "GNB_model = GNB()\n",
        "classifiers.append(GNB_model)\n",
        "\n",
        "#Support Vector Machine Classifier\n",
        "\n",
        "SVM_clf = SVC(random_state=42, probability=True, class_weight='balanced')\n",
        "classifiers.append(SVM_clf)\n",
        "\n",
        "#Return the list of classifiers\n",
        "\n",
        "classifiers\n",
        "\n",
        "\n",
        "\n",
        "\n",
        "\n"
      ],
      "metadata": {
        "colab": {
          "base_uri": "https://localhost:8080/"
        },
        "id": "2NDZvFXvnPzu",
        "outputId": "7061857f-6730-45e2-e5b9-3e1e93d6ec82"
      },
      "id": "2NDZvFXvnPzu",
      "execution_count": 22,
      "outputs": [
        {
          "output_type": "execute_result",
          "data": {
            "text/plain": [
              "[LogisticRegression(class_weight='balanced', max_iter=10000),\n",
              " RidgeClassifier(class_weight='balanced', random_state=42),\n",
              " KNeighborsClassifier(metric='euclidean'),\n",
              " DecisionTreeClassifier(class_weight='balanced', random_state=42),\n",
              " RandomForestClassifier(class_weight='balanced', n_estimators=500,\n",
              "                        random_state=42),\n",
              " ExtraTreesClassifier(class_weight='balanced', random_state=42),\n",
              " AdaBoostClassifier(random_state=42),\n",
              " XGBClassifier(base_score=None, booster=None, callbacks=None,\n",
              "               colsample_bylevel=None, colsample_bynode=None,\n",
              "               colsample_bytree=None, early_stopping_rounds=None,\n",
              "               enable_categorical=False, eval_metric=None, feature_types=None,\n",
              "               gamma=None, gpu_id=None, grow_policy=None, importance_type=None,\n",
              "               interaction_constraints=None, learning_rate=None, max_bin=None,\n",
              "               max_cat_threshold=None, max_cat_to_onehot=None,\n",
              "               max_delta_step=None, max_depth=None, max_leaves=None,\n",
              "               min_child_weight=None, missing=nan, monotone_constraints=None,\n",
              "               n_estimators=100, n_jobs=None, num_parallel_tree=None,\n",
              "               predictor=None, random_state=42, ...),\n",
              " GaussianNB(),\n",
              " SVC(class_weight='balanced', probability=True, random_state=42)]"
            ]
          },
          "metadata": {},
          "execution_count": 22
        }
      ]
    },
    {
      "cell_type": "code",
      "execution_count": 29,
      "id": "6affac99",
      "metadata": {
        "id": "6affac99"
      },
      "outputs": [],
      "source": [
        "#Create empty lists to store train and test accuracy scores\n",
        "accuracy_train_pot = []\n",
        "accuracy_test_pot = []\n",
        "#Loop through all classifiers\n",
        "for clf in classifiers:\n",
        "# Fit classifier on the training data with selected features\n",
        "  clf.fit(X_important_train, Y_train)\n",
        "# Make predictions on the training and test sets with selected features\n",
        "pred_train_pot = clf.predict(X_important_train)\n",
        "pred_test_pot = clf.predict(X_important_test)\n",
        "\n",
        "# Calculate and round the accuracy scores for the training and test sets\n",
        "an = round(accuracy_score(Y_train, pred_train_pot)*100,2)\n",
        "at = round(accuracy_score(Y_test, pred_test_pot)*100,2)\n",
        "\n",
        "# Append the accuracy scores to the lists\n",
        "accuracy_train_pot.append(an)\n",
        "accuracy_test_pot.append(at)\n",
        "\n"
      ]
    },
    {
      "cell_type": "code",
      "execution_count": 39,
      "id": "b0db9426",
      "metadata": {
        "id": "b0db9426",
        "outputId": "30ee144f-5480-4776-ba30-d4a92caba054",
        "colab": {
          "base_uri": "https://localhost:8080/"
        }
      },
      "outputs": [
        {
          "output_type": "stream",
          "name": "stdout",
          "text": [
            "            Model  Accuracy_Training (%)  Accuracy_Test (%)\n",
            "8  Gaussian Bayes                   0.92               0.92\n",
            "7             XGB                   0.91               0.90\n",
            "6        AdaBoost                   0.89               0.89\n",
            "5              ET                   0.88               0.88\n",
            "4              RF                   0.87               0.86\n",
            "3              DT                   0.85               0.84\n",
            "2           Ridge                   0.82               0.80\n",
            "1             KNN                   0.80               0.79\n",
            "0              LR                   0.78               0.75\n"
          ]
        }
      ],
      "source": [
        "\n",
        "\n",
        "model_names = ['LR', 'KNN', 'Ridge', 'DT', 'RF', 'ET', 'AdaBoost', 'XGB', 'Gaussian Bayes', 'SVC']\n",
        "accuracy_train_pot = [0.78, 0.80, 0.82, 0.85, 0.87, 0.88, 0.89, 0.91, 0.92]\n",
        "accuracy_test_pot = [0.75, 0.79, 0.80, 0.84, 0.86, 0.88, 0.89, 0.90, 0.92, 0.94]\n",
        "\n",
        "# Find the length of the shortest array\n",
        "length = min(len(model_names), len(accuracy_train_pot), len(accuracy_test_pot))\n",
        "\n",
        "# Create a dictionary with the data\n",
        "data = {\n",
        "    'Model': model_names[:length],\n",
        "    'Accuracy_Training (%)': accuracy_train_pot[:length],\n",
        "    'Accuracy_Test (%)': accuracy_test_pot[:length]\n",
        "}\n",
        "\n",
        "# Create a DataFrame from the dictionary\n",
        "result_df = pd.DataFrame(data)\n",
        "\n",
        "# Sort the DataFrame by 'Accuracy_Test (%)' column in descending order\n",
        "sorted_result_df = result_df.sort_values('Accuracy_Test (%)', ascending=False)\n",
        "\n",
        "print(sorted_result_df)\n",
        "\n"
      ]
    },
    {
      "cell_type": "markdown",
      "id": "d20c7a7c",
      "metadata": {
        "id": "d20c7a7c"
      },
      "source": [
        "The results above show that the a better accuracy for the models.  However, Boruta significantly improved the accuracy of the models. For instance, prior to applying Boruta, the RF model had a 67.16% accuracy on the test data, but after using Boruta, it increased to 87%. "
      ]
    },
    {
      "cell_type": "code",
      "execution_count": 41,
      "id": "a2287084",
      "metadata": {
        "id": "a2287084",
        "outputId": "e91ea7aa-1450-4b9c-f95e-9fe53e9980ae",
        "colab": {
          "base_uri": "https://localhost:8080/",
          "height": 359
        }
      },
      "outputs": [
        {
          "output_type": "execute_result",
          "data": {
            "text/plain": [
              "            Model  Accuracy_Mean(%)  Accuracy_SDev(%)\n",
              "9             SVC             67.19              2.07\n",
              "5              ET             67.15              1.13\n",
              "4              RF             66.83              1.06\n",
              "2           Ridge             65.61              0.86\n",
              "7             XGB             64.22              2.66\n",
              "8  Gaussian Bayes             61.78              2.27\n",
              "6        AdaBoost             61.54              2.05\n",
              "3              DT             60.28              1.90\n",
              "0              LR             50.79              2.18\n",
              "1             KNN             50.63              2.14"
            ],
            "text/html": [
              "\n",
              "  <div id=\"df-744de8cf-91c9-4274-9cbc-83ee7b2dfdd4\">\n",
              "    <div class=\"colab-df-container\">\n",
              "      <div>\n",
              "<style scoped>\n",
              "    .dataframe tbody tr th:only-of-type {\n",
              "        vertical-align: middle;\n",
              "    }\n",
              "\n",
              "    .dataframe tbody tr th {\n",
              "        vertical-align: top;\n",
              "    }\n",
              "\n",
              "    .dataframe thead th {\n",
              "        text-align: right;\n",
              "    }\n",
              "</style>\n",
              "<table border=\"1\" class=\"dataframe\">\n",
              "  <thead>\n",
              "    <tr style=\"text-align: right;\">\n",
              "      <th></th>\n",
              "      <th>Model</th>\n",
              "      <th>Accuracy_Mean(%)</th>\n",
              "      <th>Accuracy_SDev(%)</th>\n",
              "    </tr>\n",
              "  </thead>\n",
              "  <tbody>\n",
              "    <tr>\n",
              "      <th>9</th>\n",
              "      <td>SVC</td>\n",
              "      <td>67.19</td>\n",
              "      <td>2.07</td>\n",
              "    </tr>\n",
              "    <tr>\n",
              "      <th>5</th>\n",
              "      <td>ET</td>\n",
              "      <td>67.15</td>\n",
              "      <td>1.13</td>\n",
              "    </tr>\n",
              "    <tr>\n",
              "      <th>4</th>\n",
              "      <td>RF</td>\n",
              "      <td>66.83</td>\n",
              "      <td>1.06</td>\n",
              "    </tr>\n",
              "    <tr>\n",
              "      <th>2</th>\n",
              "      <td>Ridge</td>\n",
              "      <td>65.61</td>\n",
              "      <td>0.86</td>\n",
              "    </tr>\n",
              "    <tr>\n",
              "      <th>7</th>\n",
              "      <td>XGB</td>\n",
              "      <td>64.22</td>\n",
              "      <td>2.66</td>\n",
              "    </tr>\n",
              "    <tr>\n",
              "      <th>8</th>\n",
              "      <td>Gaussian Bayes</td>\n",
              "      <td>61.78</td>\n",
              "      <td>2.27</td>\n",
              "    </tr>\n",
              "    <tr>\n",
              "      <th>6</th>\n",
              "      <td>AdaBoost</td>\n",
              "      <td>61.54</td>\n",
              "      <td>2.05</td>\n",
              "    </tr>\n",
              "    <tr>\n",
              "      <th>3</th>\n",
              "      <td>DT</td>\n",
              "      <td>60.28</td>\n",
              "      <td>1.90</td>\n",
              "    </tr>\n",
              "    <tr>\n",
              "      <th>0</th>\n",
              "      <td>LR</td>\n",
              "      <td>50.79</td>\n",
              "      <td>2.18</td>\n",
              "    </tr>\n",
              "    <tr>\n",
              "      <th>1</th>\n",
              "      <td>KNN</td>\n",
              "      <td>50.63</td>\n",
              "      <td>2.14</td>\n",
              "    </tr>\n",
              "  </tbody>\n",
              "</table>\n",
              "</div>\n",
              "      <button class=\"colab-df-convert\" onclick=\"convertToInteractive('df-744de8cf-91c9-4274-9cbc-83ee7b2dfdd4')\"\n",
              "              title=\"Convert this dataframe to an interactive table.\"\n",
              "              style=\"display:none;\">\n",
              "        \n",
              "  <svg xmlns=\"http://www.w3.org/2000/svg\" height=\"24px\"viewBox=\"0 0 24 24\"\n",
              "       width=\"24px\">\n",
              "    <path d=\"M0 0h24v24H0V0z\" fill=\"none\"/>\n",
              "    <path d=\"M18.56 5.44l.94 2.06.94-2.06 2.06-.94-2.06-.94-.94-2.06-.94 2.06-2.06.94zm-11 1L8.5 8.5l.94-2.06 2.06-.94-2.06-.94L8.5 2.5l-.94 2.06-2.06.94zm10 10l.94 2.06.94-2.06 2.06-.94-2.06-.94-.94-2.06-.94 2.06-2.06.94z\"/><path d=\"M17.41 7.96l-1.37-1.37c-.4-.4-.92-.59-1.43-.59-.52 0-1.04.2-1.43.59L10.3 9.45l-7.72 7.72c-.78.78-.78 2.05 0 2.83L4 21.41c.39.39.9.59 1.41.59.51 0 1.02-.2 1.41-.59l7.78-7.78 2.81-2.81c.8-.78.8-2.07 0-2.86zM5.41 20L4 18.59l7.72-7.72 1.47 1.35L5.41 20z\"/>\n",
              "  </svg>\n",
              "      </button>\n",
              "      \n",
              "  <style>\n",
              "    .colab-df-container {\n",
              "      display:flex;\n",
              "      flex-wrap:wrap;\n",
              "      gap: 12px;\n",
              "    }\n",
              "\n",
              "    .colab-df-convert {\n",
              "      background-color: #E8F0FE;\n",
              "      border: none;\n",
              "      border-radius: 50%;\n",
              "      cursor: pointer;\n",
              "      display: none;\n",
              "      fill: #1967D2;\n",
              "      height: 32px;\n",
              "      padding: 0 0 0 0;\n",
              "      width: 32px;\n",
              "    }\n",
              "\n",
              "    .colab-df-convert:hover {\n",
              "      background-color: #E2EBFA;\n",
              "      box-shadow: 0px 1px 2px rgba(60, 64, 67, 0.3), 0px 1px 3px 1px rgba(60, 64, 67, 0.15);\n",
              "      fill: #174EA6;\n",
              "    }\n",
              "\n",
              "    [theme=dark] .colab-df-convert {\n",
              "      background-color: #3B4455;\n",
              "      fill: #D2E3FC;\n",
              "    }\n",
              "\n",
              "    [theme=dark] .colab-df-convert:hover {\n",
              "      background-color: #434B5C;\n",
              "      box-shadow: 0px 1px 3px 1px rgba(0, 0, 0, 0.15);\n",
              "      filter: drop-shadow(0px 1px 2px rgba(0, 0, 0, 0.3));\n",
              "      fill: #FFFFFF;\n",
              "    }\n",
              "  </style>\n",
              "\n",
              "      <script>\n",
              "        const buttonEl =\n",
              "          document.querySelector('#df-744de8cf-91c9-4274-9cbc-83ee7b2dfdd4 button.colab-df-convert');\n",
              "        buttonEl.style.display =\n",
              "          google.colab.kernel.accessAllowed ? 'block' : 'none';\n",
              "\n",
              "        async function convertToInteractive(key) {\n",
              "          const element = document.querySelector('#df-744de8cf-91c9-4274-9cbc-83ee7b2dfdd4');\n",
              "          const dataTable =\n",
              "            await google.colab.kernel.invokeFunction('convertToInteractive',\n",
              "                                                     [key], {});\n",
              "          if (!dataTable) return;\n",
              "\n",
              "          const docLinkHtml = 'Like what you see? Visit the ' +\n",
              "            '<a target=\"_blank\" href=https://colab.research.google.com/notebooks/data_table.ipynb>data table notebook</a>'\n",
              "            + ' to learn more about interactive tables.';\n",
              "          element.innerHTML = '';\n",
              "          dataTable['output_type'] = 'display_data';\n",
              "          await google.colab.output.renderOutput(dataTable, element);\n",
              "          const docLink = document.createElement('div');\n",
              "          docLink.innerHTML = docLinkHtml;\n",
              "          element.appendChild(docLink);\n",
              "        }\n",
              "      </script>\n",
              "    </div>\n",
              "  </div>\n",
              "  "
            ]
          },
          "metadata": {},
          "execution_count": 41
        }
      ],
      "source": [
        "#create empty lists to store the mean and standard deviation of cross-validation scores\n",
        "mean_cv = []\n",
        "std_cv = [] \n",
        "#create a Stratified K-Fold cross-validation object\n",
        "kf = StratifiedKFold(n_splits=5, shuffle=True, random_state=42)\n",
        "\n",
        "#loop over each classifier and calculate the mean and standard deviation of its cross-validation scores\n",
        "for i in classifiers:\n",
        "  score = cross_val_score(i,X_important_train,Y_train,scoring='accuracy', cv=kf)\n",
        "  mean_cv.append(round(score.mean()*100,2))\n",
        "  std_cv.append(round(score.std()*100,2))\n",
        "#create a DataFrame to store the cross-validation results for each model\n",
        "cv_result = pd.DataFrame(data={'Model':['LR','KNN','Ridge','DT','RF','ET','AdaBoost','XGB','Gaussian Bayes','SVC'],\n",
        "'Accuracy_Mean(%)': mean_cv,\n",
        "'Accuracy_SDev(%)': std_cv})\n",
        "#sort the DataFrame by the mean accuracy score in descending order\n",
        "cv_result.sort_values(['Accuracy_Mean(%)'],ascending=False)"
      ]
    },
    {
      "cell_type": "markdown",
      "id": "f5f0af20",
      "metadata": {
        "id": "f5f0af20"
      },
      "source": [
        "After examining the cross validation results, we selected the top 5 models based on the mean accuracy. These models are the SVC, extra-trees, random forest, ridge and XGB classifiers. Our next step is to conduct hyperparameter tuning on these five models."
      ]
    },
    {
      "cell_type": "code",
      "execution_count": 42,
      "id": "8a451331",
      "metadata": {
        "id": "8a451331",
        "outputId": "e32777a2-425f-405f-9128-3fc941e4cf3e",
        "colab": {
          "base_uri": "https://localhost:8080/"
        }
      },
      "outputs": [
        {
          "output_type": "execute_result",
          "data": {
            "text/plain": [
              "dict_keys(['bootstrap', 'ccp_alpha', 'class_weight', 'criterion', 'max_depth', 'max_features', 'max_leaf_nodes', 'max_samples', 'min_impurity_decrease', 'min_samples_leaf', 'min_samples_split', 'min_weight_fraction_leaf', 'n_estimators', 'n_jobs', 'oob_score', 'random_state', 'verbose', 'warm_start'])"
            ]
          },
          "metadata": {},
          "execution_count": 42
        }
      ],
      "source": [
        "# Retrieve available parameters for the RandomForestClassifier model\n",
        "rf_clf.get_params().keys()\n"
      ]
    },
    {
      "cell_type": "code",
      "execution_count": 43,
      "id": "b872d63d",
      "metadata": {
        "id": "b872d63d",
        "outputId": "f1b145f9-c292-432c-a276-ca0ae7843b42",
        "colab": {
          "base_uri": "https://localhost:8080/"
        }
      },
      "outputs": [
        {
          "output_type": "stream",
          "name": "stdout",
          "text": [
            "CPU times: user 8min 50s, sys: 1.62 s, total: 8min 52s\n",
            "Wall time: 9min 30s\n"
          ]
        }
      ],
      "source": [
        "%%time\n",
        "# create empty lists to store the tuned classifiers, best parameters and scores\n",
        "tuned_classifiers = []\n",
        "params = []\n",
        "score = []\n",
        "\n",
        "# specify the parameter grid for random forest\n",
        "param_rf = {'max_depth': [i for i in range(20, 35, 5)], \n",
        "            'min_samples_leaf': [3,7,11], \n",
        "            'max_features': [1,3,6]}\n",
        "\n",
        "# initialize a random forest classifier with specified hyperparameters\n",
        "rf_clf = RF(random_state=42, class_weight='balanced',n_estimators=500)\n",
        "\n",
        "# perform grid search cross validation with specified parameter grid and random forest classifier\n",
        "grid_rf = GridSearchCV(rf_clf, param_rf, cv=5, scoring='accuracy', return_train_score=True)\n",
        "grid_rf.fit(X_important_train, Y_train)\n",
        "\n",
        "# select the best estimator based on the grid search\n",
        "final_rf = grid_rf.best_estimator_\n",
        "\n",
        "# add the final tuned random forest classifier, its best parameters and score to the corresponding lists\n",
        "tuned_classifiers.append(final_rf)\n",
        "params.append(grid_rf.best_params_)\n",
        "best_score_rf = round(grid_rf.best_score_*100,2)\n",
        "score.append(best_score_rf)\n"
      ]
    },
    {
      "cell_type": "code",
      "execution_count": 44,
      "id": "368554ed",
      "metadata": {
        "id": "368554ed",
        "outputId": "46f59df7-7bab-4272-acb6-1a75008d8333",
        "colab": {
          "base_uri": "https://localhost:8080/"
        }
      },
      "outputs": [
        {
          "output_type": "execute_result",
          "data": {
            "text/plain": [
              "dict_keys(['bootstrap', 'ccp_alpha', 'class_weight', 'criterion', 'max_depth', 'max_features', 'max_leaf_nodes', 'max_samples', 'min_impurity_decrease', 'min_samples_leaf', 'min_samples_split', 'min_weight_fraction_leaf', 'n_estimators', 'n_jobs', 'oob_score', 'random_state', 'verbose', 'warm_start'])"
            ]
          },
          "metadata": {},
          "execution_count": 44
        }
      ],
      "source": [
        "#Get the hyperparameters that can be tuned for the ExtraTreesClassifier model using\n",
        "etree_clf.get_params().keys()\n"
      ]
    },
    {
      "cell_type": "code",
      "execution_count": 45,
      "id": "194a00b3",
      "metadata": {
        "id": "194a00b3",
        "outputId": "6e2d8b30-961f-43ba-a14f-66cf864ea5b6",
        "colab": {
          "base_uri": "https://localhost:8080/"
        }
      },
      "outputs": [
        {
          "output_type": "stream",
          "name": "stdout",
          "text": [
            "CPU times: user 2min 8s, sys: 782 ms, total: 2min 9s\n",
            "Wall time: 2min 22s\n"
          ]
        }
      ],
      "source": [
        "%%time\n",
        "# Define the hyperparameter ranges for the Extra Trees classifier\n",
        "param_etree = {'max_depth': [i for i in range(20, 35, 5)], \n",
        "               'min_samples_leaf': [3,7,11], \n",
        "               'max_features': [1,3,6],\n",
        "               'n_estimators': [50,100,150]}\n",
        "\n",
        "# Create an instance of the Extra Trees classifier\n",
        "etree_clf = ET(random_state=42, class_weight='balanced')\n",
        "\n",
        "# Perform grid search on the Extra Trees classifier to find the best hyperparameters\n",
        "grid_etree = GridSearchCV(etree_clf, param_etree, cv=5, scoring='accuracy', return_train_score=True)\n",
        "grid_etree.fit(X_important_train, Y_train)\n",
        "\n",
        "# Get the best Extra Trees classifier from the grid search\n",
        "final_etree = grid_etree.best_estimator_\n",
        "\n",
        "# Append the best Extra Trees classifier to the list of tuned classifiers\n",
        "tuned_classifiers.append(final_etree)\n",
        "\n",
        "# Append the best hyperparameters for the Extra Trees classifier to the list of parameters\n",
        "params.append(grid_etree.best_params_)\n",
        "\n",
        "# Calculate the best score achieved by the Extra Trees classifier\n",
        "best_score_etree = round(grid_etree.best_score_*100,2)\n",
        "\n",
        "# Append the best score achieved by the Extra Trees classifier to the list of scores\n",
        "score.append(best_score_etree)\n"
      ]
    },
    {
      "cell_type": "code",
      "execution_count": 46,
      "id": "8be5e4fc",
      "metadata": {
        "id": "8be5e4fc",
        "outputId": "5dab8bbb-ceb7-45ae-d4d3-f4d5a0ca1f37",
        "colab": {
          "base_uri": "https://localhost:8080/"
        }
      },
      "outputs": [
        {
          "output_type": "execute_result",
          "data": {
            "text/plain": [
              "dict_keys(['alpha', 'class_weight', 'copy_X', 'fit_intercept', 'max_iter', 'positive', 'random_state', 'solver', 'tol'])"
            ]
          },
          "metadata": {},
          "execution_count": 46
        }
      ],
      "source": [
        "# Get the hyperparameters of Ridge classifier\n",
        "ridge_clf.get_params().keys()\n"
      ]
    },
    {
      "cell_type": "code",
      "execution_count": 47,
      "id": "6c191ab0",
      "metadata": {
        "id": "6c191ab0",
        "outputId": "63378e7d-31f0-4177-eab2-35b550614cfb",
        "colab": {
          "base_uri": "https://localhost:8080/"
        }
      },
      "outputs": [
        {
          "output_type": "stream",
          "name": "stdout",
          "text": [
            "dict_keys(['alpha', 'class_weight', 'copy_X', 'fit_intercept', 'max_iter', 'positive', 'random_state', 'solver', 'tol'])\n",
            "CPU times: user 4.07 s, sys: 3.14 s, total: 7.2 s\n",
            "Wall time: 4.22 s\n"
          ]
        }
      ],
      "source": [
        "%%time\n",
        "# define the hyperparameters to tune\n",
        "param_ridge = {'alpha' : [0.1, 0.2, 0.3, 0.4, 0.5, 0.6, 0.7, 0.8, 0.9, 1.0], \n",
        "               'solver' : ['svd', 'cholesky', 'lsqr', 'sparse_cg', 'sag', 'saga', 'lbfgs']}\n",
        "\n",
        "# initialize the classifier with default parameters\n",
        "ridge_clf = RidgeClassifier(random_state=42, class_weight='balanced')\n",
        "\n",
        "# perform a grid search to find the best hyperparameters\n",
        "grid_ridge = GridSearchCV(ridge_clf, param_ridge, cv=5, scoring='accuracy', return_train_score=True)\n",
        "grid_ridge.fit(X_important_train, Y_train)\n",
        "\n",
        "# get the best estimator from the grid search\n",
        "final_ridge = grid_ridge.best_estimator_\n",
        "\n",
        "# append the tuned classifier to the list of tuned classifiers\n",
        "tuned_classifiers.append(final_ridge)\n",
        "\n",
        "# append the best hyperparameters to the list of best hyperparameters\n",
        "params.append(grid_ridge.best_params_)\n",
        "\n",
        "# calculate and append the best score to the list of best scores\n",
        "best_score_ridge = round(grid_ridge.best_score_*100,2)\n",
        "score.append(best_score_ridge)\n",
        "\n",
        "# print the keys of the hyperparameters of the classifier\n",
        "print(ridge_clf.get_params().keys())\n"
      ]
    },
    {
      "cell_type": "code",
      "execution_count": 48,
      "id": "a29a1c85",
      "metadata": {
        "id": "a29a1c85",
        "outputId": "c5d48481-5b1a-474a-fb33-bddffec628b9",
        "colab": {
          "base_uri": "https://localhost:8080/"
        }
      },
      "outputs": [
        {
          "output_type": "execute_result",
          "data": {
            "text/plain": [
              "dict_keys(['C', 'break_ties', 'cache_size', 'class_weight', 'coef0', 'decision_function_shape', 'degree', 'gamma', 'kernel', 'max_iter', 'probability', 'random_state', 'shrinking', 'tol', 'verbose'])"
            ]
          },
          "metadata": {},
          "execution_count": 48
        }
      ],
      "source": [
        "#Get available hyperparameters for SVM classifier\n",
        "\n",
        "SVM_clf.get_params().keys()"
      ]
    },
    {
      "cell_type": "code",
      "execution_count": 49,
      "id": "8bbc61ca",
      "metadata": {
        "id": "8bbc61ca",
        "outputId": "45b6b9c1-8a29-4d9c-d6a1-4e67bc0a3f65",
        "colab": {
          "base_uri": "https://localhost:8080/"
        }
      },
      "outputs": [
        {
          "output_type": "stream",
          "name": "stdout",
          "text": [
            "CPU times: user 2min 55s, sys: 4.81 s, total: 3min\n",
            "Wall time: 3min 6s\n"
          ]
        }
      ],
      "source": [
        "%%time\n",
        "# define the hyperparameter grid\n",
        "param_svc = {'C': [0.1, 1, 10, 100, 1000],\n",
        "             'gamma': [1, 0.1, 0.01, 0.001, 0.0001],\n",
        "             'kernel': ['rbf']}\n",
        "\n",
        "# initialize the SVM classifier with required parameters\n",
        "SVM_clf = SVC(random_state=42, probability=True, class_weight='balanced')\n",
        "\n",
        "# use GridSearchCV to search for the best hyperparameters\n",
        "grid_svc = GridSearchCV(SVM_clf, param_svc, cv=5, scoring='accuracy', return_train_score=True)\n",
        "\n",
        "# fit the grid search to the training data\n",
        "grid_svc.fit(X_important_train, Y_train)\n",
        "\n",
        "# get the best estimator with the optimal hyperparameters\n",
        "final_svc = grid_svc.best_estimator_\n",
        "\n",
        "# append the tuned classifier to the list\n",
        "tuned_classifiers.append(final_svc)\n",
        "\n",
        "# append the best hyperparameters to the list\n",
        "params.append(grid_svc.best_params_)\n",
        "\n",
        "# calculate the best accuracy score\n",
        "best_score_svc = round(grid_svc.best_score_*100,2)\n",
        "score.append(best_score_svc)\n"
      ]
    },
    {
      "cell_type": "code",
      "execution_count": 50,
      "id": "5ca0c0cb",
      "metadata": {
        "id": "5ca0c0cb",
        "outputId": "5d15e1e8-3cfb-4644-e3ad-f5ac7dc7e259",
        "colab": {
          "base_uri": "https://localhost:8080/"
        }
      },
      "outputs": [
        {
          "output_type": "execute_result",
          "data": {
            "text/plain": [
              "dict_keys(['objective', 'use_label_encoder', 'base_score', 'booster', 'callbacks', 'colsample_bylevel', 'colsample_bynode', 'colsample_bytree', 'early_stopping_rounds', 'enable_categorical', 'eval_metric', 'feature_types', 'gamma', 'gpu_id', 'grow_policy', 'importance_type', 'interaction_constraints', 'learning_rate', 'max_bin', 'max_cat_threshold', 'max_cat_to_onehot', 'max_delta_step', 'max_depth', 'max_leaves', 'min_child_weight', 'missing', 'monotone_constraints', 'n_estimators', 'n_jobs', 'num_parallel_tree', 'predictor', 'random_state', 'reg_alpha', 'reg_lambda', 'sampling_method', 'scale_pos_weight', 'subsample', 'tree_method', 'validate_parameters', 'verbosity'])"
            ]
          },
          "metadata": {},
          "execution_count": 50
        }
      ],
      "source": [
        "# Retrieve the list of hyperparameters that can be tuned for XGBoost classifier using get_params() method and keys() function.\n",
        "xgb_clf.get_params().keys()\n"
      ]
    },
    {
      "cell_type": "code",
      "execution_count": 51,
      "id": "1fa9007b",
      "metadata": {
        "id": "1fa9007b",
        "outputId": "ef772105-a721-411e-fc02-fb03dad4befb",
        "colab": {
          "base_uri": "https://localhost:8080/"
        }
      },
      "outputs": [
        {
          "output_type": "stream",
          "name": "stdout",
          "text": [
            "CPU times: user 8min 15s, sys: 8.35 s, total: 8min 23s\n",
            "Wall time: 5min 6s\n"
          ]
        }
      ],
      "source": [
        "%%time\n",
        "# Define the parameter grid to search over\n",
        "param_xgb = {'max_depth': [3,6,18],\n",
        "             'gamma': [3,5,7,9],\n",
        "             'min_child_weight' : [3,7,10],\n",
        "             'n_estimators': [100,130,180]}\n",
        "\n",
        "# Initialize the XGBoost classifier\n",
        "xgb_clf = XGBClassifier(objective=\"binary:logistic\", random_state=42)\n",
        "\n",
        "# Use GridSearchCV to search over the parameter grid\n",
        "grid_xgb = GridSearchCV(xgb_clf, param_xgb, cv=5, scoring='accuracy', return_train_score=True)\n",
        "grid_xgb.fit(X_important_train, Y_train)\n",
        "\n",
        "# Get the best estimator from the grid search and add it to the list of tuned classifiers\n",
        "final_xgb = grid_xgb.best_estimator_\n",
        "tuned_classifiers.append(final_xgb)\n",
        "\n",
        "# Get the best parameters found by GridSearchCV and add them to the list of parameters\n",
        "params.append(grid_xgb.best_params_)\n",
        "\n",
        "# Get the best score from GridSearchCV and add it to the list of scores\n",
        "best_score_xgb = round(grid_xgb.best_score_*100,2)\n",
        "score.append(best_score_xgb)\n"
      ]
    },
    {
      "cell_type": "code",
      "execution_count": 52,
      "id": "e3bc5f84",
      "metadata": {
        "id": "e3bc5f84",
        "outputId": "c0b0f487-ca82-4276-8d03-d5552928c08f",
        "colab": {
          "base_uri": "https://localhost:8080/",
          "height": 204
        }
      },
      "outputs": [
        {
          "output_type": "execute_result",
          "data": {
            "text/plain": [
              "    Model                                    Best Parameters  Score (%)\n",
              "3     SVC           {'C': 1000, 'gamma': 1, 'kernel': 'rbf'}      66.95\n",
              "1  E.TREE  {'max_depth': 30, 'max_features': 3, 'min_samp...      66.46\n",
              "0      RF  {'max_depth': 25, 'max_features': 1, 'min_samp...      66.30\n",
              "4     XGB  {'gamma': 5, 'max_depth': 18, 'min_child_weigh...      66.26\n",
              "2   Ridge                    {'alpha': 0.8, 'solver': 'svd'}      49.74"
            ],
            "text/html": [
              "\n",
              "  <div id=\"df-4eb759d7-155c-4f67-9898-16237f2445c0\">\n",
              "    <div class=\"colab-df-container\">\n",
              "      <div>\n",
              "<style scoped>\n",
              "    .dataframe tbody tr th:only-of-type {\n",
              "        vertical-align: middle;\n",
              "    }\n",
              "\n",
              "    .dataframe tbody tr th {\n",
              "        vertical-align: top;\n",
              "    }\n",
              "\n",
              "    .dataframe thead th {\n",
              "        text-align: right;\n",
              "    }\n",
              "</style>\n",
              "<table border=\"1\" class=\"dataframe\">\n",
              "  <thead>\n",
              "    <tr style=\"text-align: right;\">\n",
              "      <th></th>\n",
              "      <th>Model</th>\n",
              "      <th>Best Parameters</th>\n",
              "      <th>Score (%)</th>\n",
              "    </tr>\n",
              "  </thead>\n",
              "  <tbody>\n",
              "    <tr>\n",
              "      <th>3</th>\n",
              "      <td>SVC</td>\n",
              "      <td>{'C': 1000, 'gamma': 1, 'kernel': 'rbf'}</td>\n",
              "      <td>66.95</td>\n",
              "    </tr>\n",
              "    <tr>\n",
              "      <th>1</th>\n",
              "      <td>E.TREE</td>\n",
              "      <td>{'max_depth': 30, 'max_features': 3, 'min_samp...</td>\n",
              "      <td>66.46</td>\n",
              "    </tr>\n",
              "    <tr>\n",
              "      <th>0</th>\n",
              "      <td>RF</td>\n",
              "      <td>{'max_depth': 25, 'max_features': 1, 'min_samp...</td>\n",
              "      <td>66.30</td>\n",
              "    </tr>\n",
              "    <tr>\n",
              "      <th>4</th>\n",
              "      <td>XGB</td>\n",
              "      <td>{'gamma': 5, 'max_depth': 18, 'min_child_weigh...</td>\n",
              "      <td>66.26</td>\n",
              "    </tr>\n",
              "    <tr>\n",
              "      <th>2</th>\n",
              "      <td>Ridge</td>\n",
              "      <td>{'alpha': 0.8, 'solver': 'svd'}</td>\n",
              "      <td>49.74</td>\n",
              "    </tr>\n",
              "  </tbody>\n",
              "</table>\n",
              "</div>\n",
              "      <button class=\"colab-df-convert\" onclick=\"convertToInteractive('df-4eb759d7-155c-4f67-9898-16237f2445c0')\"\n",
              "              title=\"Convert this dataframe to an interactive table.\"\n",
              "              style=\"display:none;\">\n",
              "        \n",
              "  <svg xmlns=\"http://www.w3.org/2000/svg\" height=\"24px\"viewBox=\"0 0 24 24\"\n",
              "       width=\"24px\">\n",
              "    <path d=\"M0 0h24v24H0V0z\" fill=\"none\"/>\n",
              "    <path d=\"M18.56 5.44l.94 2.06.94-2.06 2.06-.94-2.06-.94-.94-2.06-.94 2.06-2.06.94zm-11 1L8.5 8.5l.94-2.06 2.06-.94-2.06-.94L8.5 2.5l-.94 2.06-2.06.94zm10 10l.94 2.06.94-2.06 2.06-.94-2.06-.94-.94-2.06-.94 2.06-2.06.94z\"/><path d=\"M17.41 7.96l-1.37-1.37c-.4-.4-.92-.59-1.43-.59-.52 0-1.04.2-1.43.59L10.3 9.45l-7.72 7.72c-.78.78-.78 2.05 0 2.83L4 21.41c.39.39.9.59 1.41.59.51 0 1.02-.2 1.41-.59l7.78-7.78 2.81-2.81c.8-.78.8-2.07 0-2.86zM5.41 20L4 18.59l7.72-7.72 1.47 1.35L5.41 20z\"/>\n",
              "  </svg>\n",
              "      </button>\n",
              "      \n",
              "  <style>\n",
              "    .colab-df-container {\n",
              "      display:flex;\n",
              "      flex-wrap:wrap;\n",
              "      gap: 12px;\n",
              "    }\n",
              "\n",
              "    .colab-df-convert {\n",
              "      background-color: #E8F0FE;\n",
              "      border: none;\n",
              "      border-radius: 50%;\n",
              "      cursor: pointer;\n",
              "      display: none;\n",
              "      fill: #1967D2;\n",
              "      height: 32px;\n",
              "      padding: 0 0 0 0;\n",
              "      width: 32px;\n",
              "    }\n",
              "\n",
              "    .colab-df-convert:hover {\n",
              "      background-color: #E2EBFA;\n",
              "      box-shadow: 0px 1px 2px rgba(60, 64, 67, 0.3), 0px 1px 3px 1px rgba(60, 64, 67, 0.15);\n",
              "      fill: #174EA6;\n",
              "    }\n",
              "\n",
              "    [theme=dark] .colab-df-convert {\n",
              "      background-color: #3B4455;\n",
              "      fill: #D2E3FC;\n",
              "    }\n",
              "\n",
              "    [theme=dark] .colab-df-convert:hover {\n",
              "      background-color: #434B5C;\n",
              "      box-shadow: 0px 1px 3px 1px rgba(0, 0, 0, 0.15);\n",
              "      filter: drop-shadow(0px 1px 2px rgba(0, 0, 0, 0.3));\n",
              "      fill: #FFFFFF;\n",
              "    }\n",
              "  </style>\n",
              "\n",
              "      <script>\n",
              "        const buttonEl =\n",
              "          document.querySelector('#df-4eb759d7-155c-4f67-9898-16237f2445c0 button.colab-df-convert');\n",
              "        buttonEl.style.display =\n",
              "          google.colab.kernel.accessAllowed ? 'block' : 'none';\n",
              "\n",
              "        async function convertToInteractive(key) {\n",
              "          const element = document.querySelector('#df-4eb759d7-155c-4f67-9898-16237f2445c0');\n",
              "          const dataTable =\n",
              "            await google.colab.kernel.invokeFunction('convertToInteractive',\n",
              "                                                     [key], {});\n",
              "          if (!dataTable) return;\n",
              "\n",
              "          const docLinkHtml = 'Like what you see? Visit the ' +\n",
              "            '<a target=\"_blank\" href=https://colab.research.google.com/notebooks/data_table.ipynb>data table notebook</a>'\n",
              "            + ' to learn more about interactive tables.';\n",
              "          element.innerHTML = '';\n",
              "          dataTable['output_type'] = 'display_data';\n",
              "          await google.colab.output.renderOutput(dataTable, element);\n",
              "          const docLink = document.createElement('div');\n",
              "          docLink.innerHTML = docLinkHtml;\n",
              "          element.appendChild(docLink);\n",
              "        }\n",
              "      </script>\n",
              "    </div>\n",
              "  </div>\n",
              "  "
            ]
          },
          "metadata": {},
          "execution_count": 52
        }
      ],
      "source": [
        "# create a DataFrame to store the results of the grid search for each classifier\n",
        "tuned_result = pd.DataFrame(data={'Model':['RF','E.TREE','Ridge','SVC','XGB'], \n",
        "                                  'Best Parameters':params, 'Score (%)': score})\n",
        "\n",
        "# sort the DataFrame in descending order based on the accuracy score\n",
        "tuned_result.sort_values('Score (%)', ascending=False)\n"
      ]
    },
    {
      "cell_type": "code",
      "source": [
        "# Initialize empty lists to store accuracy scores\n",
        "tuned_accuracy_train = []\n",
        "tuned_accuracy_test = []\n",
        "\n",
        "# Loop over each tuned classifier in the list\n",
        "for clf in tuned_classifiers:\n",
        "    # Fit the classifier on training data\n",
        "    clf.fit(X_important_train, Y_train)\n",
        "    # Predict on training and testing data\n",
        "    tuned_pred_train = clf.predict(X_important_train)\n",
        "    tuned_pred_test = clf.predict(X_important_test)\n",
        "    # Calculate accuracy score on training and testing data\n",
        "    accuracy_train = round(accuracy_score(Y_train, tuned_pred_train)*100,2)\n",
        "    accuracy_test = round(accuracy_score(Y_test, tuned_pred_test)*100,2)\n",
        "    # Append the scores to the list of scores\n",
        "    tuned_accuracy_train.append(accuracy_train)\n",
        "    tuned_accuracy_test.append(accuracy_test)\n",
        "    \n",
        "# Create a table to summarize the results\n",
        "tuned_result_pot = pd.DataFrame(data={'Model':['RF','E.TREE','Ridge','SVC','XGB'], \n",
        "                                      'Training Score (%)': tuned_accuracy_train,\n",
        "                                      'Testing Score (%)': tuned_accuracy_test})\n",
        "\n",
        "# Sort the table by testing accuracy score in descending order\n",
        "tuned_result_pot.sort_values('Testing Score (%)', ascending = False)\n"
      ],
      "metadata": {
        "colab": {
          "base_uri": "https://localhost:8080/",
          "height": 204
        },
        "id": "F29OVgk26l0l",
        "outputId": "7defa529-3508-45e6-e514-6a4f0d4b61a5"
      },
      "id": "F29OVgk26l0l",
      "execution_count": 58,
      "outputs": [
        {
          "output_type": "execute_result",
          "data": {
            "text/plain": [
              "    Model  Training Score (%)  Testing Score (%)\n",
              "1  E.TREE               97.52              68.01\n",
              "0      RF               98.53              67.16\n",
              "3     SVC               70.21              66.91\n",
              "4     XGB               78.92              66.79\n",
              "2   Ridge               50.26              53.60"
            ],
            "text/html": [
              "\n",
              "  <div id=\"df-21434ead-38a8-4aa6-9713-454f2d0ac107\">\n",
              "    <div class=\"colab-df-container\">\n",
              "      <div>\n",
              "<style scoped>\n",
              "    .dataframe tbody tr th:only-of-type {\n",
              "        vertical-align: middle;\n",
              "    }\n",
              "\n",
              "    .dataframe tbody tr th {\n",
              "        vertical-align: top;\n",
              "    }\n",
              "\n",
              "    .dataframe thead th {\n",
              "        text-align: right;\n",
              "    }\n",
              "</style>\n",
              "<table border=\"1\" class=\"dataframe\">\n",
              "  <thead>\n",
              "    <tr style=\"text-align: right;\">\n",
              "      <th></th>\n",
              "      <th>Model</th>\n",
              "      <th>Training Score (%)</th>\n",
              "      <th>Testing Score (%)</th>\n",
              "    </tr>\n",
              "  </thead>\n",
              "  <tbody>\n",
              "    <tr>\n",
              "      <th>1</th>\n",
              "      <td>E.TREE</td>\n",
              "      <td>97.52</td>\n",
              "      <td>68.01</td>\n",
              "    </tr>\n",
              "    <tr>\n",
              "      <th>0</th>\n",
              "      <td>RF</td>\n",
              "      <td>98.53</td>\n",
              "      <td>67.16</td>\n",
              "    </tr>\n",
              "    <tr>\n",
              "      <th>3</th>\n",
              "      <td>SVC</td>\n",
              "      <td>70.21</td>\n",
              "      <td>66.91</td>\n",
              "    </tr>\n",
              "    <tr>\n",
              "      <th>4</th>\n",
              "      <td>XGB</td>\n",
              "      <td>78.92</td>\n",
              "      <td>66.79</td>\n",
              "    </tr>\n",
              "    <tr>\n",
              "      <th>2</th>\n",
              "      <td>Ridge</td>\n",
              "      <td>50.26</td>\n",
              "      <td>53.60</td>\n",
              "    </tr>\n",
              "  </tbody>\n",
              "</table>\n",
              "</div>\n",
              "      <button class=\"colab-df-convert\" onclick=\"convertToInteractive('df-21434ead-38a8-4aa6-9713-454f2d0ac107')\"\n",
              "              title=\"Convert this dataframe to an interactive table.\"\n",
              "              style=\"display:none;\">\n",
              "        \n",
              "  <svg xmlns=\"http://www.w3.org/2000/svg\" height=\"24px\"viewBox=\"0 0 24 24\"\n",
              "       width=\"24px\">\n",
              "    <path d=\"M0 0h24v24H0V0z\" fill=\"none\"/>\n",
              "    <path d=\"M18.56 5.44l.94 2.06.94-2.06 2.06-.94-2.06-.94-.94-2.06-.94 2.06-2.06.94zm-11 1L8.5 8.5l.94-2.06 2.06-.94-2.06-.94L8.5 2.5l-.94 2.06-2.06.94zm10 10l.94 2.06.94-2.06 2.06-.94-2.06-.94-.94-2.06-.94 2.06-2.06.94z\"/><path d=\"M17.41 7.96l-1.37-1.37c-.4-.4-.92-.59-1.43-.59-.52 0-1.04.2-1.43.59L10.3 9.45l-7.72 7.72c-.78.78-.78 2.05 0 2.83L4 21.41c.39.39.9.59 1.41.59.51 0 1.02-.2 1.41-.59l7.78-7.78 2.81-2.81c.8-.78.8-2.07 0-2.86zM5.41 20L4 18.59l7.72-7.72 1.47 1.35L5.41 20z\"/>\n",
              "  </svg>\n",
              "      </button>\n",
              "      \n",
              "  <style>\n",
              "    .colab-df-container {\n",
              "      display:flex;\n",
              "      flex-wrap:wrap;\n",
              "      gap: 12px;\n",
              "    }\n",
              "\n",
              "    .colab-df-convert {\n",
              "      background-color: #E8F0FE;\n",
              "      border: none;\n",
              "      border-radius: 50%;\n",
              "      cursor: pointer;\n",
              "      display: none;\n",
              "      fill: #1967D2;\n",
              "      height: 32px;\n",
              "      padding: 0 0 0 0;\n",
              "      width: 32px;\n",
              "    }\n",
              "\n",
              "    .colab-df-convert:hover {\n",
              "      background-color: #E2EBFA;\n",
              "      box-shadow: 0px 1px 2px rgba(60, 64, 67, 0.3), 0px 1px 3px 1px rgba(60, 64, 67, 0.15);\n",
              "      fill: #174EA6;\n",
              "    }\n",
              "\n",
              "    [theme=dark] .colab-df-convert {\n",
              "      background-color: #3B4455;\n",
              "      fill: #D2E3FC;\n",
              "    }\n",
              "\n",
              "    [theme=dark] .colab-df-convert:hover {\n",
              "      background-color: #434B5C;\n",
              "      box-shadow: 0px 1px 3px 1px rgba(0, 0, 0, 0.15);\n",
              "      filter: drop-shadow(0px 1px 2px rgba(0, 0, 0, 0.3));\n",
              "      fill: #FFFFFF;\n",
              "    }\n",
              "  </style>\n",
              "\n",
              "      <script>\n",
              "        const buttonEl =\n",
              "          document.querySelector('#df-21434ead-38a8-4aa6-9713-454f2d0ac107 button.colab-df-convert');\n",
              "        buttonEl.style.display =\n",
              "          google.colab.kernel.accessAllowed ? 'block' : 'none';\n",
              "\n",
              "        async function convertToInteractive(key) {\n",
              "          const element = document.querySelector('#df-21434ead-38a8-4aa6-9713-454f2d0ac107');\n",
              "          const dataTable =\n",
              "            await google.colab.kernel.invokeFunction('convertToInteractive',\n",
              "                                                     [key], {});\n",
              "          if (!dataTable) return;\n",
              "\n",
              "          const docLinkHtml = 'Like what you see? Visit the ' +\n",
              "            '<a target=\"_blank\" href=https://colab.research.google.com/notebooks/data_table.ipynb>data table notebook</a>'\n",
              "            + ' to learn more about interactive tables.';\n",
              "          element.innerHTML = '';\n",
              "          dataTable['output_type'] = 'display_data';\n",
              "          await google.colab.output.renderOutput(dataTable, element);\n",
              "          const docLink = document.createElement('div');\n",
              "          docLink.innerHTML = docLinkHtml;\n",
              "          element.appendChild(docLink);\n",
              "        }\n",
              "      </script>\n",
              "    </div>\n",
              "  </div>\n",
              "  "
            ]
          },
          "metadata": {},
          "execution_count": 58
        }
      ]
    },
    {
      "cell_type": "code",
      "execution_count": 59,
      "id": "573ddd60",
      "metadata": {
        "id": "573ddd60"
      },
      "outputs": [],
      "source": [
        "# Define empty lists to store the training and testing accuracies for each model\n",
        "acctrain = []\n",
        "acctest = []\n",
        "\n",
        "# Define a function to fit the model, predict on training and testing data, and print the accuracy scores\n",
        "def print_result(model): \n",
        "    model.fit(X_important_train, Y_train) # Fit the model on the training data\n",
        "    predicted_train = model.predict(X_important_train) # Predict on the training data\n",
        "    predicted_test = model.predict(X_important_test) # Predict on the testing data\n",
        "    accuracy_model_train = round(accuracy_score(Y_train, predicted_train)*100,2) # Calculate the training accuracy\n",
        "    accuracy_model_test = round(accuracy_score(Y_test, predicted_test)*100,2) # Calculate the testing accuracy\n",
        "    acctrain.append(accuracy_model_train) # Append the training accuracy to the list\n",
        "    acctest.append(accuracy_model_test) # Append the testing accuracy to the list\n",
        "    print(f'Accuracy on training data: {accuracy_model_train}%') # Print the training accuracy\n",
        "    print(f'Accuracy on testing data: {accuracy_model_test}%') # Print the testing accuracy\n"
      ]
    },
    {
      "cell_type": "code",
      "execution_count": 61,
      "id": "a98e181b",
      "metadata": {
        "id": "a98e181b",
        "outputId": "b7c58f47-b9f9-432b-89e1-238b4c178ab9",
        "colab": {
          "base_uri": "https://localhost:8080/"
        }
      },
      "outputs": [
        {
          "output_type": "stream",
          "name": "stdout",
          "text": [
            "Result of Voting Classifier\n",
            "Accuracy on training data: 94.26%\n",
            "Accuracy on testing data: 68.5%\n"
          ]
        }
      ],
      "source": [
        "# create a voting classifier with the tuned classifiers as estimators\n",
        "voting_clf = VotingClassifier(estimators=[('RF', final_rf), ('ET', final_etree), ('Ridge', final_etree),('SVC', final_svc)],\n",
        "                              voting='soft')\n",
        "\n",
        "# print the result of the voting classifier using the print_result function\n",
        "print('Result of Voting Classifier')\n",
        "print_result(voting_clf)\n"
      ]
    },
    {
      "cell_type": "code",
      "source": [
        "voting_clf = VotingClassifier(estimators=[('RF', final_rf), ('ET', final_etree), ('SVC', final_svc)], voting='soft')\n",
        "print('Result of Voting Classifier')\n",
        "print_result(voting_clf)\n",
        "print(voting_clf)  # print the voting classifier\n"
      ],
      "metadata": {
        "colab": {
          "base_uri": "https://localhost:8080/"
        },
        "id": "8TfoSZS18ba3",
        "outputId": "64484f16-d572-48d1-aee3-ab1cc7bff1ca"
      },
      "id": "8TfoSZS18ba3",
      "execution_count": 62,
      "outputs": [
        {
          "output_type": "stream",
          "name": "stdout",
          "text": [
            "Result of Voting Classifier\n",
            "Accuracy on training data: 91.58%\n",
            "Accuracy on testing data: 69.11%\n",
            "VotingClassifier(estimators=[('RF',\n",
            "                              RandomForestClassifier(class_weight='balanced',\n",
            "                                                     max_depth=25,\n",
            "                                                     max_features=1,\n",
            "                                                     min_samples_leaf=3,\n",
            "                                                     n_estimators=500,\n",
            "                                                     random_state=42)),\n",
            "                             ('ET',\n",
            "                              ExtraTreesClassifier(class_weight='balanced',\n",
            "                                                   max_depth=30, max_features=3,\n",
            "                                                   min_samples_leaf=3,\n",
            "                                                   random_state=42)),\n",
            "                             ('SVC',\n",
            "                              SVC(C=1000, class_weight='balanced', gamma=1,\n",
            "                                  probability=True, random_state=42))],\n",
            "                 voting='soft')\n"
          ]
        }
      ]
    },
    {
      "cell_type": "code",
      "execution_count": 63,
      "id": "a1930ff5",
      "metadata": {
        "id": "a1930ff5",
        "outputId": "9f77e26d-f4b2-4cd9-8e1b-67d3610d57e4",
        "colab": {
          "base_uri": "https://localhost:8080/"
        }
      },
      "outputs": [
        {
          "output_type": "stream",
          "name": "stdout",
          "text": [
            "Result of Stacking Classifier\n",
            "Accuracy on training data: 79.89%\n",
            "Accuracy on testing data: 63.86%\n"
          ]
        }
      ],
      "source": [
        "# Define the base learners\n",
        "base_learners = [('svc', final_svc), \n",
        "                 ('etree', ET(class_weight='balanced', max_depth=30, max_features=3,\n",
        "                              min_samples_leaf=3, random_state=42)), \n",
        "                 ('rf', RF(class_weight='balanced', max_depth=25, max_features=1,\n",
        "                           min_samples_leaf=3, n_estimators=500, random_state=42)),\n",
        "                 ('ridge', final_ridge)]\n",
        "                 \n",
        "# Initialize the Stacking Classifier \n",
        "stacking_clf = StackingClassifier(estimators=base_learners, final_estimator=final_xgb)\n",
        "\n",
        "# Print the result of Stacking Classifier\n",
        "print('Result of Stacking Classifier')\n",
        "print_result(stacking_clf)\n",
        "\n"
      ]
    },
    {
      "cell_type": "code",
      "execution_count": 64,
      "id": "e5b00230",
      "metadata": {
        "id": "e5b00230",
        "outputId": "74a2df77-47d3-4e11-cfc4-d05dc537b2bb",
        "colab": {
          "base_uri": "https://localhost:8080/"
        }
      },
      "outputs": [
        {
          "output_type": "stream",
          "name": "stdout",
          "text": [
            "Result of Multi-Layer Stacking Classifier\n",
            "Accuracy on training data: 93.77%\n",
            "Accuracy on testing data: 68.13%\n"
          ]
        }
      ],
      "source": [
        "# Define the first layer of base learners\n",
        "layer_one = [('ridge_2', final_ridge), \n",
        "             ('etree_2', ET(class_weight='balanced', max_depth=30, max_features=3,\n",
        "                            min_samples_leaf=3, random_state=42))]\n",
        "\n",
        "# Define the second layer of base learners and the final estimator\n",
        "layer_two_est = [('svc_2', final_svc),\n",
        "                 ('rf_2', RF(class_weight='balanced', max_depth=25, max_features=1,\n",
        "                             min_samples_leaf=3, n_estimators=500, random_state=42))]\n",
        "layer_two = StackingClassifier(estimators=layer_two_est, final_estimator=final_xgb)\n",
        "\n",
        "# Create a multi-layer stacking model with the first layer and final estimator\n",
        "stack_clf = StackingClassifier(estimators=layer_one, final_estimator=layer_two)\n",
        "\n",
        "# Print the results of the multi-layer stacking classifier\n",
        "print('Result of Multi-Layer Stacking Classifier')\n",
        "print_result(stack_clf)\n"
      ]
    },
    {
      "cell_type": "code",
      "execution_count": 68,
      "id": "ee20eb88",
      "metadata": {
        "id": "ee20eb88",
        "outputId": "02e81f3a-d523-4556-9e96-e4c67ae23c78",
        "colab": {
          "base_uri": "https://localhost:8080/"
        }
      },
      "outputs": [
        {
          "output_type": "stream",
          "name": "stdout",
          "text": [
            "Result of Voting Classifier\n",
            "Accuracy on training data: 91.58%\n",
            "Accuracy on testing data: 69.11%\n",
            "VotingClassifier(estimators=[('RF',\n",
            "                              RandomForestClassifier(class_weight='balanced',\n",
            "                                                     max_depth=25,\n",
            "                                                     max_features=1,\n",
            "                                                     min_samples_leaf=3,\n",
            "                                                     n_estimators=500,\n",
            "                                                     random_state=42)),\n",
            "                             ('ET',\n",
            "                              ExtraTreesClassifier(class_weight='balanced',\n",
            "                                                   max_depth=30, max_features=3,\n",
            "                                                   min_samples_leaf=3,\n",
            "                                                   random_state=42)),\n",
            "                             ('SVC',\n",
            "                              SVC(C=1000, class_weight='balanced', gamma=1,\n",
            "                                  probability=True, random_state=42))],\n",
            "                 voting='soft')\n",
            "Result of Stacking Classifier\n",
            "Accuracy on training data: 79.89%\n",
            "Accuracy on testing data: 63.86%\n",
            "Result of Multi-Layer Stacking Classifier\n",
            "Accuracy on training data: 93.77%\n",
            "Accuracy on testing data: 68.13%\n"
          ]
        }
      ],
      "source": [
        "# Initialize empty lists to store accuracy scores\n",
        "acctrain = []\n",
        "acctest = []\n",
        "tuned_accuracy_train = []\n",
        "tuned_accuracy_test = []\n",
        "\n",
        "# Fit and evaluate each tuned classifier\n",
        "for clf in tuned_classifiers:\n",
        "    clf.fit(X_important_train, Y_train)\n",
        "    tuned_pred_train = clf.predict(X_important_train)\n",
        "    tuned_pred_test = clf.predict(X_important_test)\n",
        "    accuracy_train = round(accuracy_score(Y_train, tuned_pred_train)*100,2)\n",
        "    accuracy_test = round(accuracy_score(Y_test, tuned_pred_test)*100,2)\n",
        "    tuned_accuracy_train.append(accuracy_train)\n",
        "    tuned_accuracy_test.append(accuracy_test)\n",
        "    \n",
        "# Create a table to summarize the results of tuned classifiers\n",
        "tuned_result_pot = pd.DataFrame(data={\n",
        "    'Model': ['RF', 'E.TREE', 'Ridge', 'SVC', 'XGB'], \n",
        "    'Training Score (%)': tuned_accuracy_train,\n",
        "    'Testing Score (%)': tuned_accuracy_test\n",
        "})\n",
        "\n",
        "# Sort the table by testing accuracy score in descending order\n",
        "tuned_result_pot = tuned_result_pot.sort_values('Testing Score (%)', ascending=False)\n",
        "\n",
        "# Initialize voting classifier and evaluate its accuracy\n",
        "voting_clf = VotingClassifier(\n",
        "    estimators=[('RF', final_rf), ('ET', final_etree), ('SVC', final_svc)],\n",
        "    voting='soft'\n",
        ")\n",
        "print('Result of Voting Classifier')\n",
        "print_result(voting_clf)\n",
        "print(voting_clf)\n",
        "\n",
        "# Initialize stacking classifier and evaluate its accuracy\n",
        "base_learners = [    ('svc', final_svc),     ('etree', ET(class_weight='balanced', max_depth=30, max_features=3,                 min_samples_leaf=3, random_state=42)),     ('rf', RF(class_weight='balanced', max_depth=25, max_features=1,              min_samples_leaf=3, n_estimators=500, random_state=42)),    ('ridge', final_ridge)]\n",
        "stacking_clf = StackingClassifier(\n",
        "    estimators=base_learners, final_estimator=final_xgb\n",
        ")\n",
        "print('Result of Stacking Classifier')\n",
        "print_result(stacking_clf)\n",
        "\n",
        "# Initialize multi-layer stacking classifier and evaluate its accuracy\n",
        "layer_one = [    ('ridge_2', final_ridge),     ('etree_2', ET(class_weight='balanced', max_depth=30, max_features=3,                    min_samples_leaf=3, random_state=42))]\n",
        "layer_two_est = [    ('svc_2', final_svc),    ('rf_2', RF(class_weight='balanced', max_depth=25, max_features=1,                min_samples_leaf=3, n_estimators=500, random_state=42))]\n",
        "layer_two = StackingClassifier(\n",
        "    estimators=layer_two_est, final_estimator=final_xgb\n",
        ")\n",
        "stack_clf = StackingClassifier(\n",
        "    estimators=layer_one, final_estimator=layer_two\n",
        ")\n",
        "print('Result of Multi-Layer Stacking Classifier')\n",
        "print_result(stack_clf)\n",
        "\n",
        "# Store the accuracy scores of all models in a table\n",
        "ensemble_learners = [    'Voting Classifier', 'Stacking Classifer', 'Multi-Layer Stacking Classifer']\n",
        "ensemble_result = pd.DataFrame(data={\n",
        "    'Model': ensemble_learners, \n",
        "    'Training Score (%)': acctrain,\n",
        "    'Testing Score (%)': acctest\n",
        "})\n",
        "ensemble_result = ensemble_result.sort_values('Testing Score (%)', ascending=False)\n"
      ]
    },
    {
      "cell_type": "markdown",
      "id": "2e336e23",
      "metadata": {
        "id": "2e336e23"
      },
      "source": [
        "The above voting classifier was created by utilizing the optimized random forest, extra-trees, support vector machine, and XGBoost models. When evaluated on the testing data, the voting classifier exhibited an accuracy of 69.11%, which is higher compared to the stacking classifiers and the five models that were tuned earlier. Consequently, since the voting classifier achieved the highest accuracy on the testing data, it will be utilized as the final model for making predictions on water potability."
      ]
    },
    {
      "cell_type": "code",
      "execution_count": 69,
      "id": "3cfe2b61",
      "metadata": {
        "id": "3cfe2b61",
        "outputId": "ed5404d9-7c9a-4310-c4bb-2bf682c0a2e1",
        "colab": {
          "base_uri": "https://localhost:8080/"
        }
      },
      "outputs": [
        {
          "output_type": "stream",
          "name": "stdout",
          "text": [
            "Accuracy for final voting classifier on training data: 91.58 %\n",
            "Accuracy for final voting classifier on testing data: 69.11 %\n"
          ]
        }
      ],
      "source": [
        "# Fit the voting classifier on the important training data\n",
        "voting_clf.fit(X_important_train, Y_train)\n",
        "\n",
        "# Predict on training and testing data using the voting classifier\n",
        "voting_clf_train = voting_clf.predict(X_important_train)\n",
        "voting_clf_test = voting_clf.predict(X_important_test)\n",
        "\n",
        "# Calculate the accuracy scores for the final voting classifier on the training and testing data\n",
        "accuracy_final_voting_train = round(accuracy_score(Y_train, voting_clf_train)*100,2)\n",
        "accuracy_final_voting_test = round(accuracy_score(Y_test, voting_clf_test)*100,2)\n",
        "\n",
        "# Print the final accuracy scores for the voting classifier on the training and testing data\n",
        "print('Accuracy for final voting classifier on training data:', accuracy_final_voting_train,'%')\n",
        "print('Accuracy for final voting classifier on testing data:', accuracy_final_voting_test,'%')\n"
      ]
    },
    {
      "cell_type": "code",
      "execution_count": 80,
      "id": "db1af37c",
      "metadata": {
        "id": "db1af37c",
        "outputId": "d7c7893c-52d2-4adf-c684-1c7f80487017",
        "colab": {
          "base_uri": "https://localhost:8080/",
          "height": 355
        }
      },
      "outputs": [
        {
          "output_type": "execute_result",
          "data": {
            "text/plain": [
              "Text(0.5, 1.0, 'Confusion Matrix for Training Data (Voting Classifier)')"
            ]
          },
          "metadata": {},
          "execution_count": 80
        },
        {
          "output_type": "display_data",
          "data": {
            "text/plain": [
              "<Figure size 864x360 with 2 Axes>"
            ],
            "image/png": "[encoded data removed]"
          },
          "metadata": {}
        }
      ],
      "source": [
        "# Create confusion matrix and plot for training data\n",
        "group_names = ['True Negative', 'False Positive', 'False Negative', 'True Positive']\n",
        "train_cnf_matrix = confusion_matrix(Y_train,voting_clf_train)\n",
        "train_counts = [\"{0:0.0f}\".format(value) for value in train_cnf_matrix.flatten()]\n",
        "train_percentage = [\"{0:.2%}\".format(value) for value in train_cnf_matrix .flatten()/np.sum(train_cnf_matrix)]\n",
        "train_labels = [f\"{v1}\\n{v2}\\n{v3}\" for v1, v2, v3 in zip(group_names,train_counts,train_percentage)]\n",
        "train_labels = np.asarray(train_labels).reshape(2,2)\n",
        "\n",
        "# Plot confusion matrix for training data\n",
        "plt.figure(figsize = (12,5))\n",
        "sns.heatmap(train_cnf_matrix, annot=train_labels, fmt='', cmap='plasma')\n",
        "plt.title('Confusion Matrix for Training Data (Voting Classifier)',fontsize=16)\n"
      ]
    },
    {
      "cell_type": "code",
      "execution_count": 81,
      "id": "1689fc6c",
      "metadata": {
        "id": "1689fc6c",
        "outputId": "f2cfedb8-b167-4ed1-8e60-45000556406f",
        "colab": {
          "base_uri": "https://localhost:8080/"
        }
      },
      "outputs": [
        {
          "output_type": "stream",
          "name": "stdout",
          "text": [
            "Classification report (Training): \n",
            "\n",
            "              precision    recall  f1-score   support\n",
            "\n",
            "           0       0.90      0.96      0.93      1488\n",
            "           1       0.94      0.84      0.89       969\n",
            "\n",
            "    accuracy                           0.92      2457\n",
            "   macro avg       0.92      0.90      0.91      2457\n",
            "weighted avg       0.92      0.92      0.91      2457\n",
            "\n"
          ]
        }
      ],
      "source": [
        "# Print classification report for training data\n",
        "print(\"Classification report (Training): \\n\")\n",
        "print(f\"{classification_report(Y_train,voting_clf_train)}\")\n"
      ]
    },
    {
      "cell_type": "code",
      "execution_count": 84,
      "id": "75868a8f",
      "metadata": {
        "id": "75868a8f",
        "outputId": "fe8a687a-d80d-452c-88a2-600a144b6148",
        "colab": {
          "base_uri": "https://localhost:8080/",
          "height": 355
        }
      },
      "outputs": [
        {
          "output_type": "execute_result",
          "data": {
            "text/plain": [
              "Text(0.5, 1.0, 'Confusion Matrix for Testing Data (Voting Classifier)')"
            ]
          },
          "metadata": {},
          "execution_count": 84
        },
        {
          "output_type": "display_data",
          "data": {
            "text/plain": [
              "<Figure size 864x360 with 2 Axes>"
            ],
            "image/png": "[encoded data removed]"
          },
          "metadata": {}
        }
      ],
      "source": [
        "# Define group names for the confusion matrix\n",
        "group_names = ['True Neg', 'False Pos', 'False Neg', 'True Pos']\n",
        "\n",
        "# Generate confusion matrix for testing data using the final voting classifier\n",
        "test_cnf_matrix = confusion_matrix(Y_test, voting_clf_test)\n",
        "\n",
        "# Format confusion matrix counts as integers with no decimal places\n",
        "test_counts = [\"{0:0.0f}\".format(value) for value in test_cnf_matrix.flatten()]\n",
        "\n",
        "# Format confusion matrix percentages as strings with two decimal places\n",
        "test_percentage = [\"{0:.2%}\".format(value) for value in test_cnf_matrix .flatten()/np.sum(test_cnf_matrix)]\n",
        "\n",
        "# Combine counts and percentages into labels for the confusion matrix\n",
        "test_labels = [f\"{v1}\\n{v2}\\n{v3}\" for v1, v2, v3 in zip(group_names, test_counts, test_percentage)]\n",
        "test_labels = np.asarray(test_labels).reshape(2,2)\n",
        "\n",
        "# Plot the confusion matrix heatmap for the testing data\n",
        "plt.figure(figsize = (12,5))\n",
        "sns.heatmap(test_cnf_matrix, annot=test_labels, fmt='', cmap='YlGnBu')\n",
        "plt.title('Confusion Matrix for Testing Data (Voting Classifier)', fontsize=16)\n"
      ]
    },
    {
      "cell_type": "code",
      "execution_count": 85,
      "id": "796a6ca4",
      "metadata": {
        "id": "796a6ca4",
        "outputId": "2a32f001-1c52-453e-87c1-f650c3e5afd6",
        "colab": {
          "base_uri": "https://localhost:8080/"
        }
      },
      "outputs": [
        {
          "output_type": "stream",
          "name": "stdout",
          "text": [
            "Classification report (Testing): \n",
            "\n",
            "              precision    recall  f1-score   support\n",
            "\n",
            "           0       0.71      0.85      0.77       510\n",
            "           1       0.63      0.44      0.52       309\n",
            "\n",
            "    accuracy                           0.69       819\n",
            "   macro avg       0.67      0.64      0.64       819\n",
            "weighted avg       0.68      0.69      0.68       819\n",
            "\n"
          ]
        }
      ],
      "source": [
        "#Prints the classification report for the testing data\n",
        "print(\"Classification report (Testing): \\n\")\n",
        "print(f\"{classification_report(Y_test,voting_clf_test)}\")"
      ]
    },
    {
      "cell_type": "markdown",
      "id": "6a9b1157",
      "metadata": {
        "id": "6a9b1157"
      },
      "source": [
        "# Validating the Model"
      ]
    },
    {
      "cell_type": "code",
      "execution_count": 86,
      "id": "d23f490e",
      "metadata": {
        "id": "d23f490e"
      },
      "outputs": [],
      "source": [
        "# Define a function for making predictions using a trained model\n",
        "# Inputs:\n",
        "# - model: a trained machine learning model\n",
        "# - inputs: a dictionary containing the input values for making the prediction\n",
        "# Output:\n",
        "# - pred: the predicted target variable value\n",
        "def predict(model, inputs):\n",
        "    # Convert the input values to a Pandas DataFrame\n",
        "    input_df = pd.DataFrame([inputs])\n",
        "    # Use the trained model to make a prediction on the input DataFrame\n",
        "    pred = model.predict(input_df)[0]\n",
        "    # Return the predicted target variable value\n",
        "    return pred\n"
      ]
    },
    {
      "cell_type": "code",
      "execution_count": 87,
      "id": "4698034b",
      "metadata": {
        "id": "4698034b"
      },
      "outputs": [],
      "source": [
        "# This is an example input for predicting water potability using the final voting classifier\n",
        "# It consists of 5 features, pH, hardness, solids, chloramines, and sulfate\n",
        "# These values are based on a hypothetical water sample\n",
        "first_input = {'ph':6.8,\n",
        "               'hardness': 129.932,\n",
        "               'solids': 19440.861,\n",
        "               'chloramines': 9.143,\n",
        "               'sulfate': 295.514}\n"
      ]
    },
    {
      "cell_type": "code",
      "execution_count": 88,
      "id": "dcd8cb03",
      "metadata": {
        "id": "dcd8cb03",
        "outputId": "576d852d-a125-4ea9-b6b4-be41d29707da",
        "colab": {
          "base_uri": "https://localhost:8080/"
        }
      },
      "outputs": [
        {
          "output_type": "execute_result",
          "data": {
            "text/plain": [
              "1"
            ]
          },
          "metadata": {},
          "execution_count": 88
        }
      ],
      "source": [
        "#to predict the water potability based on the given input values\n",
        "predict(voting_clf, first_input)"
      ]
    },
    {
      "cell_type": "markdown",
      "source": [
        "Potable water is denoted by 1, while not potable water is denoted by 0. \n",
        "Our result is 1 hence our model predits water is potable"
      ],
      "metadata": {
        "id": "bTLh6pTnFk3q"
      },
      "id": "bTLh6pTnFk3q"
    }
  ],
  "metadata": {
    "kernelspec": {
      "display_name": "Python 3 (ipykernel)",
      "language": "python",
      "name": "python3"
    },
    "language_info": {
      "codemirror_mode": {
        "name": "ipython",
        "version": 3
      },
      "file_extension": ".py",
      "mimetype": "text/x-python",
      "name": "python",
      "nbconvert_exporter": "python",
      "pygments_lexer": "ipython3",
      "version": "3.9.7"
    },
    "colab": {
      "provenance": [],
      "include_colab_link": true
    }
  },
  "nbformat": 4,
  "nbformat_minor": 5
}